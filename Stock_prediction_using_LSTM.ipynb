{
  "cells": [
    {
      "cell_type": "markdown",
      "metadata": {
        "id": "bMPZo6sAXsOA"
      },
      "source": [
        "\n",
        "##Emergent market data analysis using Long Short Term Memory model\n",
        "\n",
        "Looking from an investor’s perspective, stock market returns in the long run are one of the critical factors for making investments. Hence, predicting stock prices in emerging markets is very important for an investor. In this project, we have focused on studying the prediction of opening stock prices for four emerging markets: Brazil, Thailand, Hong Kong, and Philippines.\n",
        "\n"
      ]
    },
    {
      "cell_type": "code",
      "execution_count": null,
      "metadata": {
        "id": "iQIcLqV5XsOH"
      },
      "outputs": [],
      "source": [
        "#Importing the libraries\n",
        "import pandas as pd\n",
        "import numpy as np\n",
        "import matplotlib.pyplot as plt\n",
        "import keras"
      ]
    },
    {
      "cell_type": "code",
      "source": [
        "from google.colab import drive\n",
        "drive.mount('/content/drive')"
      ],
      "metadata": {
        "colab": {
          "base_uri": "https://localhost:8080/"
        },
        "id": "DWIxy1cSX3Iz",
        "outputId": "b4de5a4d-8dbb-4b7b-965a-3febfd9aa5b1"
      },
      "execution_count": null,
      "outputs": [
        {
          "output_type": "stream",
          "name": "stdout",
          "text": [
            "Mounted at /content/drive\n"
          ]
        }
      ]
    },
    {
      "cell_type": "markdown",
      "source": [
        "#BVSP data"
      ],
      "metadata": {
        "id": "EylfJTpGmq1H"
      }
    },
    {
      "cell_type": "code",
      "execution_count": null,
      "metadata": {
        "id": "UmPNFaRgXsOJ",
        "colab": {
          "base_uri": "https://localhost:8080/"
        },
        "outputId": "7c45569f-df6d-41e4-c3d9-4721e813cfde"
      },
      "outputs": [
        {
          "output_type": "execute_result",
          "data": {
            "text/plain": [
              "(1054, 7)"
            ]
          },
          "metadata": {},
          "execution_count": 7
        }
      ],
      "source": [
        "#Importing the data\n",
        "dfBP= pd.read_csv('/content/drive/MyDrive/emergent-market-data/BVSP.csv')\n",
        "dfBP.shape\n"
      ]
    },
    {
      "cell_type": "code",
      "source": [
        "dfBP.info()"
      ],
      "metadata": {
        "id": "6CLCYOusG2EJ",
        "colab": {
          "base_uri": "https://localhost:8080/"
        },
        "outputId": "44089494-5d72-4070-da9d-2520719a9fe6"
      },
      "execution_count": null,
      "outputs": [
        {
          "output_type": "stream",
          "name": "stdout",
          "text": [
            "<class 'pandas.core.frame.DataFrame'>\n",
            "RangeIndex: 1054 entries, 0 to 1053\n",
            "Data columns (total 7 columns):\n",
            " #   Column     Non-Null Count  Dtype  \n",
            "---  ------     --------------  -----  \n",
            " 0   Date       1054 non-null   object \n",
            " 1   Open       1053 non-null   float64\n",
            " 2   High       1053 non-null   float64\n",
            " 3   Low        1053 non-null   float64\n",
            " 4   Close      1053 non-null   float64\n",
            " 5   Adj Close  1053 non-null   float64\n",
            " 6   Volume     1053 non-null   float64\n",
            "dtypes: float64(6), object(1)\n",
            "memory usage: 57.8+ KB\n"
          ]
        }
      ]
    },
    {
      "cell_type": "code",
      "source": [
        "dfBP.head(20)"
      ],
      "metadata": {
        "id": "RwAk1Umi3Z00",
        "colab": {
          "base_uri": "https://localhost:8080/",
          "height": 676
        },
        "outputId": "6f5e3866-eb89-4f23-90d7-9da0c1b50e30"
      },
      "execution_count": null,
      "outputs": [
        {
          "output_type": "execute_result",
          "data": {
            "text/plain": [
              "          Date     Open     High      Low    Close  Adj Close     Volume\n",
              "0   2018-01-02  76403.0  77909.0  76403.0  77891.0    77891.0  2880300.0\n",
              "1   2018-01-03  77889.0  78414.0  77602.0  77995.0    77995.0  3142200.0\n",
              "2   2018-01-04  77998.0  79135.0  77998.0  78647.0    78647.0  3486100.0\n",
              "3   2018-01-05  78644.0  79071.0  78218.0  79071.0    79071.0  2747100.0\n",
              "4   2018-01-08  79070.0  79395.0  78631.0  79379.0    79379.0  2550800.0\n",
              "5   2018-01-09  79379.0  79415.0  78699.0  78864.0    78864.0  3458600.0\n",
              "6   2018-01-10  78864.0  78864.0  78164.0  78201.0    78201.0  2759900.0\n",
              "7   2018-01-11  78201.0  79365.0  78201.0  79365.0    79365.0  3409400.0\n",
              "8   2018-01-12  79365.0  79440.0  78861.0  79349.0    79349.0  3577800.0\n",
              "9   2018-01-15  79349.0  79847.0  79349.0  79752.0    79752.0  1941000.0\n",
              "10  2018-01-16  79751.0  80246.0  79668.0  79832.0    79832.0  2982500.0\n",
              "11  2018-01-17  79832.0  81189.0  79828.0  81189.0    81189.0  3341200.0\n",
              "12  2018-01-18  81185.0  81367.0  80498.0  80963.0    80963.0  3429600.0\n",
              "13  2018-01-19  80965.0  81429.0  80854.0  81220.0    81220.0  3123200.0\n",
              "14  2018-01-22  81220.0  81675.0  80923.0  81675.0    81675.0  2693000.0\n",
              "15  2018-01-23  81676.0  81676.0  80524.0  80678.0    80678.0  3711200.0\n",
              "16  2018-01-24  80679.0  83680.0  80679.0  83680.0    83680.0  5503700.0\n",
              "17  2018-01-25      NaN      NaN      NaN      NaN        NaN        NaN\n",
              "18  2018-01-26  83680.0  85531.0  83680.0  85531.0    85531.0  5410600.0\n",
              "19  2018-01-29  85531.0  85531.0  84341.0  84698.0    84698.0  3889600.0"
            ],
            "text/html": [
              "\n",
              "  <div id=\"df-2aed3494-13a6-4543-9759-96c0e6af9c10\">\n",
              "    <div class=\"colab-df-container\">\n",
              "      <div>\n",
              "<style scoped>\n",
              "    .dataframe tbody tr th:only-of-type {\n",
              "        vertical-align: middle;\n",
              "    }\n",
              "\n",
              "    .dataframe tbody tr th {\n",
              "        vertical-align: top;\n",
              "    }\n",
              "\n",
              "    .dataframe thead th {\n",
              "        text-align: right;\n",
              "    }\n",
              "</style>\n",
              "<table border=\"1\" class=\"dataframe\">\n",
              "  <thead>\n",
              "    <tr style=\"text-align: right;\">\n",
              "      <th></th>\n",
              "      <th>Date</th>\n",
              "      <th>Open</th>\n",
              "      <th>High</th>\n",
              "      <th>Low</th>\n",
              "      <th>Close</th>\n",
              "      <th>Adj Close</th>\n",
              "      <th>Volume</th>\n",
              "    </tr>\n",
              "  </thead>\n",
              "  <tbody>\n",
              "    <tr>\n",
              "      <th>0</th>\n",
              "      <td>2018-01-02</td>\n",
              "      <td>76403.0</td>\n",
              "      <td>77909.0</td>\n",
              "      <td>76403.0</td>\n",
              "      <td>77891.0</td>\n",
              "      <td>77891.0</td>\n",
              "      <td>2880300.0</td>\n",
              "    </tr>\n",
              "    <tr>\n",
              "      <th>1</th>\n",
              "      <td>2018-01-03</td>\n",
              "      <td>77889.0</td>\n",
              "      <td>78414.0</td>\n",
              "      <td>77602.0</td>\n",
              "      <td>77995.0</td>\n",
              "      <td>77995.0</td>\n",
              "      <td>3142200.0</td>\n",
              "    </tr>\n",
              "    <tr>\n",
              "      <th>2</th>\n",
              "      <td>2018-01-04</td>\n",
              "      <td>77998.0</td>\n",
              "      <td>79135.0</td>\n",
              "      <td>77998.0</td>\n",
              "      <td>78647.0</td>\n",
              "      <td>78647.0</td>\n",
              "      <td>3486100.0</td>\n",
              "    </tr>\n",
              "    <tr>\n",
              "      <th>3</th>\n",
              "      <td>2018-01-05</td>\n",
              "      <td>78644.0</td>\n",
              "      <td>79071.0</td>\n",
              "      <td>78218.0</td>\n",
              "      <td>79071.0</td>\n",
              "      <td>79071.0</td>\n",
              "      <td>2747100.0</td>\n",
              "    </tr>\n",
              "    <tr>\n",
              "      <th>4</th>\n",
              "      <td>2018-01-08</td>\n",
              "      <td>79070.0</td>\n",
              "      <td>79395.0</td>\n",
              "      <td>78631.0</td>\n",
              "      <td>79379.0</td>\n",
              "      <td>79379.0</td>\n",
              "      <td>2550800.0</td>\n",
              "    </tr>\n",
              "    <tr>\n",
              "      <th>5</th>\n",
              "      <td>2018-01-09</td>\n",
              "      <td>79379.0</td>\n",
              "      <td>79415.0</td>\n",
              "      <td>78699.0</td>\n",
              "      <td>78864.0</td>\n",
              "      <td>78864.0</td>\n",
              "      <td>3458600.0</td>\n",
              "    </tr>\n",
              "    <tr>\n",
              "      <th>6</th>\n",
              "      <td>2018-01-10</td>\n",
              "      <td>78864.0</td>\n",
              "      <td>78864.0</td>\n",
              "      <td>78164.0</td>\n",
              "      <td>78201.0</td>\n",
              "      <td>78201.0</td>\n",
              "      <td>2759900.0</td>\n",
              "    </tr>\n",
              "    <tr>\n",
              "      <th>7</th>\n",
              "      <td>2018-01-11</td>\n",
              "      <td>78201.0</td>\n",
              "      <td>79365.0</td>\n",
              "      <td>78201.0</td>\n",
              "      <td>79365.0</td>\n",
              "      <td>79365.0</td>\n",
              "      <td>3409400.0</td>\n",
              "    </tr>\n",
              "    <tr>\n",
              "      <th>8</th>\n",
              "      <td>2018-01-12</td>\n",
              "      <td>79365.0</td>\n",
              "      <td>79440.0</td>\n",
              "      <td>78861.0</td>\n",
              "      <td>79349.0</td>\n",
              "      <td>79349.0</td>\n",
              "      <td>3577800.0</td>\n",
              "    </tr>\n",
              "    <tr>\n",
              "      <th>9</th>\n",
              "      <td>2018-01-15</td>\n",
              "      <td>79349.0</td>\n",
              "      <td>79847.0</td>\n",
              "      <td>79349.0</td>\n",
              "      <td>79752.0</td>\n",
              "      <td>79752.0</td>\n",
              "      <td>1941000.0</td>\n",
              "    </tr>\n",
              "    <tr>\n",
              "      <th>10</th>\n",
              "      <td>2018-01-16</td>\n",
              "      <td>79751.0</td>\n",
              "      <td>80246.0</td>\n",
              "      <td>79668.0</td>\n",
              "      <td>79832.0</td>\n",
              "      <td>79832.0</td>\n",
              "      <td>2982500.0</td>\n",
              "    </tr>\n",
              "    <tr>\n",
              "      <th>11</th>\n",
              "      <td>2018-01-17</td>\n",
              "      <td>79832.0</td>\n",
              "      <td>81189.0</td>\n",
              "      <td>79828.0</td>\n",
              "      <td>81189.0</td>\n",
              "      <td>81189.0</td>\n",
              "      <td>3341200.0</td>\n",
              "    </tr>\n",
              "    <tr>\n",
              "      <th>12</th>\n",
              "      <td>2018-01-18</td>\n",
              "      <td>81185.0</td>\n",
              "      <td>81367.0</td>\n",
              "      <td>80498.0</td>\n",
              "      <td>80963.0</td>\n",
              "      <td>80963.0</td>\n",
              "      <td>3429600.0</td>\n",
              "    </tr>\n",
              "    <tr>\n",
              "      <th>13</th>\n",
              "      <td>2018-01-19</td>\n",
              "      <td>80965.0</td>\n",
              "      <td>81429.0</td>\n",
              "      <td>80854.0</td>\n",
              "      <td>81220.0</td>\n",
              "      <td>81220.0</td>\n",
              "      <td>3123200.0</td>\n",
              "    </tr>\n",
              "    <tr>\n",
              "      <th>14</th>\n",
              "      <td>2018-01-22</td>\n",
              "      <td>81220.0</td>\n",
              "      <td>81675.0</td>\n",
              "      <td>80923.0</td>\n",
              "      <td>81675.0</td>\n",
              "      <td>81675.0</td>\n",
              "      <td>2693000.0</td>\n",
              "    </tr>\n",
              "    <tr>\n",
              "      <th>15</th>\n",
              "      <td>2018-01-23</td>\n",
              "      <td>81676.0</td>\n",
              "      <td>81676.0</td>\n",
              "      <td>80524.0</td>\n",
              "      <td>80678.0</td>\n",
              "      <td>80678.0</td>\n",
              "      <td>3711200.0</td>\n",
              "    </tr>\n",
              "    <tr>\n",
              "      <th>16</th>\n",
              "      <td>2018-01-24</td>\n",
              "      <td>80679.0</td>\n",
              "      <td>83680.0</td>\n",
              "      <td>80679.0</td>\n",
              "      <td>83680.0</td>\n",
              "      <td>83680.0</td>\n",
              "      <td>5503700.0</td>\n",
              "    </tr>\n",
              "    <tr>\n",
              "      <th>17</th>\n",
              "      <td>2018-01-25</td>\n",
              "      <td>NaN</td>\n",
              "      <td>NaN</td>\n",
              "      <td>NaN</td>\n",
              "      <td>NaN</td>\n",
              "      <td>NaN</td>\n",
              "      <td>NaN</td>\n",
              "    </tr>\n",
              "    <tr>\n",
              "      <th>18</th>\n",
              "      <td>2018-01-26</td>\n",
              "      <td>83680.0</td>\n",
              "      <td>85531.0</td>\n",
              "      <td>83680.0</td>\n",
              "      <td>85531.0</td>\n",
              "      <td>85531.0</td>\n",
              "      <td>5410600.0</td>\n",
              "    </tr>\n",
              "    <tr>\n",
              "      <th>19</th>\n",
              "      <td>2018-01-29</td>\n",
              "      <td>85531.0</td>\n",
              "      <td>85531.0</td>\n",
              "      <td>84341.0</td>\n",
              "      <td>84698.0</td>\n",
              "      <td>84698.0</td>\n",
              "      <td>3889600.0</td>\n",
              "    </tr>\n",
              "  </tbody>\n",
              "</table>\n",
              "</div>\n",
              "      <button class=\"colab-df-convert\" onclick=\"convertToInteractive('df-2aed3494-13a6-4543-9759-96c0e6af9c10')\"\n",
              "              title=\"Convert this dataframe to an interactive table.\"\n",
              "              style=\"display:none;\">\n",
              "        \n",
              "  <svg xmlns=\"http://www.w3.org/2000/svg\" height=\"24px\"viewBox=\"0 0 24 24\"\n",
              "       width=\"24px\">\n",
              "    <path d=\"M0 0h24v24H0V0z\" fill=\"none\"/>\n",
              "    <path d=\"M18.56 5.44l.94 2.06.94-2.06 2.06-.94-2.06-.94-.94-2.06-.94 2.06-2.06.94zm-11 1L8.5 8.5l.94-2.06 2.06-.94-2.06-.94L8.5 2.5l-.94 2.06-2.06.94zm10 10l.94 2.06.94-2.06 2.06-.94-2.06-.94-.94-2.06-.94 2.06-2.06.94z\"/><path d=\"M17.41 7.96l-1.37-1.37c-.4-.4-.92-.59-1.43-.59-.52 0-1.04.2-1.43.59L10.3 9.45l-7.72 7.72c-.78.78-.78 2.05 0 2.83L4 21.41c.39.39.9.59 1.41.59.51 0 1.02-.2 1.41-.59l7.78-7.78 2.81-2.81c.8-.78.8-2.07 0-2.86zM5.41 20L4 18.59l7.72-7.72 1.47 1.35L5.41 20z\"/>\n",
              "  </svg>\n",
              "      </button>\n",
              "      \n",
              "  <style>\n",
              "    .colab-df-container {\n",
              "      display:flex;\n",
              "      flex-wrap:wrap;\n",
              "      gap: 12px;\n",
              "    }\n",
              "\n",
              "    .colab-df-convert {\n",
              "      background-color: #E8F0FE;\n",
              "      border: none;\n",
              "      border-radius: 50%;\n",
              "      cursor: pointer;\n",
              "      display: none;\n",
              "      fill: #1967D2;\n",
              "      height: 32px;\n",
              "      padding: 0 0 0 0;\n",
              "      width: 32px;\n",
              "    }\n",
              "\n",
              "    .colab-df-convert:hover {\n",
              "      background-color: #E2EBFA;\n",
              "      box-shadow: 0px 1px 2px rgba(60, 64, 67, 0.3), 0px 1px 3px 1px rgba(60, 64, 67, 0.15);\n",
              "      fill: #174EA6;\n",
              "    }\n",
              "\n",
              "    [theme=dark] .colab-df-convert {\n",
              "      background-color: #3B4455;\n",
              "      fill: #D2E3FC;\n",
              "    }\n",
              "\n",
              "    [theme=dark] .colab-df-convert:hover {\n",
              "      background-color: #434B5C;\n",
              "      box-shadow: 0px 1px 3px 1px rgba(0, 0, 0, 0.15);\n",
              "      filter: drop-shadow(0px 1px 2px rgba(0, 0, 0, 0.3));\n",
              "      fill: #FFFFFF;\n",
              "    }\n",
              "  </style>\n",
              "\n",
              "      <script>\n",
              "        const buttonEl =\n",
              "          document.querySelector('#df-2aed3494-13a6-4543-9759-96c0e6af9c10 button.colab-df-convert');\n",
              "        buttonEl.style.display =\n",
              "          google.colab.kernel.accessAllowed ? 'block' : 'none';\n",
              "\n",
              "        async function convertToInteractive(key) {\n",
              "          const element = document.querySelector('#df-2aed3494-13a6-4543-9759-96c0e6af9c10');\n",
              "          const dataTable =\n",
              "            await google.colab.kernel.invokeFunction('convertToInteractive',\n",
              "                                                     [key], {});\n",
              "          if (!dataTable) return;\n",
              "\n",
              "          const docLinkHtml = 'Like what you see? Visit the ' +\n",
              "            '<a target=\"_blank\" href=https://colab.research.google.com/notebooks/data_table.ipynb>data table notebook</a>'\n",
              "            + ' to learn more about interactive tables.';\n",
              "          element.innerHTML = '';\n",
              "          dataTable['output_type'] = 'display_data';\n",
              "          await google.colab.output.renderOutput(dataTable, element);\n",
              "          const docLink = document.createElement('div');\n",
              "          docLink.innerHTML = docLinkHtml;\n",
              "          element.appendChild(docLink);\n",
              "        }\n",
              "      </script>\n",
              "    </div>\n",
              "  </div>\n",
              "  "
            ]
          },
          "metadata": {},
          "execution_count": 9
        }
      ]
    },
    {
      "cell_type": "code",
      "source": [
        "dfBP.isnull().values.any()"
      ],
      "metadata": {
        "id": "_Zcx7egpykAa",
        "colab": {
          "base_uri": "https://localhost:8080/"
        },
        "outputId": "8729ab3d-eebb-4a92-a75e-93fc945b37f3"
      },
      "execution_count": null,
      "outputs": [
        {
          "output_type": "execute_result",
          "data": {
            "text/plain": [
              "True"
            ]
          },
          "metadata": {},
          "execution_count": 10
        }
      ]
    },
    {
      "cell_type": "code",
      "source": [
        "#fillup the missing value with the average of previous and next value\n",
        "dfBP=dfBP.interpolate(method ='linear')\n",
        "dfBP.head(20)"
      ],
      "metadata": {
        "id": "Sb6QgoBv0U7X",
        "colab": {
          "base_uri": "https://localhost:8080/",
          "height": 676
        },
        "outputId": "8630070c-3692-4b7a-a0da-588742e30707"
      },
      "execution_count": null,
      "outputs": [
        {
          "output_type": "execute_result",
          "data": {
            "text/plain": [
              "          Date     Open     High      Low    Close  Adj Close     Volume\n",
              "0   2018-01-02  76403.0  77909.0  76403.0  77891.0    77891.0  2880300.0\n",
              "1   2018-01-03  77889.0  78414.0  77602.0  77995.0    77995.0  3142200.0\n",
              "2   2018-01-04  77998.0  79135.0  77998.0  78647.0    78647.0  3486100.0\n",
              "3   2018-01-05  78644.0  79071.0  78218.0  79071.0    79071.0  2747100.0\n",
              "4   2018-01-08  79070.0  79395.0  78631.0  79379.0    79379.0  2550800.0\n",
              "5   2018-01-09  79379.0  79415.0  78699.0  78864.0    78864.0  3458600.0\n",
              "6   2018-01-10  78864.0  78864.0  78164.0  78201.0    78201.0  2759900.0\n",
              "7   2018-01-11  78201.0  79365.0  78201.0  79365.0    79365.0  3409400.0\n",
              "8   2018-01-12  79365.0  79440.0  78861.0  79349.0    79349.0  3577800.0\n",
              "9   2018-01-15  79349.0  79847.0  79349.0  79752.0    79752.0  1941000.0\n",
              "10  2018-01-16  79751.0  80246.0  79668.0  79832.0    79832.0  2982500.0\n",
              "11  2018-01-17  79832.0  81189.0  79828.0  81189.0    81189.0  3341200.0\n",
              "12  2018-01-18  81185.0  81367.0  80498.0  80963.0    80963.0  3429600.0\n",
              "13  2018-01-19  80965.0  81429.0  80854.0  81220.0    81220.0  3123200.0\n",
              "14  2018-01-22  81220.0  81675.0  80923.0  81675.0    81675.0  2693000.0\n",
              "15  2018-01-23  81676.0  81676.0  80524.0  80678.0    80678.0  3711200.0\n",
              "16  2018-01-24  80679.0  83680.0  80679.0  83680.0    83680.0  5503700.0\n",
              "17  2018-01-25  82179.5  84605.5  82179.5  84605.5    84605.5  5457150.0\n",
              "18  2018-01-26  83680.0  85531.0  83680.0  85531.0    85531.0  5410600.0\n",
              "19  2018-01-29  85531.0  85531.0  84341.0  84698.0    84698.0  3889600.0"
            ],
            "text/html": [
              "\n",
              "  <div id=\"df-3f23ab65-f46e-4537-bf90-d96fbb7cf682\">\n",
              "    <div class=\"colab-df-container\">\n",
              "      <div>\n",
              "<style scoped>\n",
              "    .dataframe tbody tr th:only-of-type {\n",
              "        vertical-align: middle;\n",
              "    }\n",
              "\n",
              "    .dataframe tbody tr th {\n",
              "        vertical-align: top;\n",
              "    }\n",
              "\n",
              "    .dataframe thead th {\n",
              "        text-align: right;\n",
              "    }\n",
              "</style>\n",
              "<table border=\"1\" class=\"dataframe\">\n",
              "  <thead>\n",
              "    <tr style=\"text-align: right;\">\n",
              "      <th></th>\n",
              "      <th>Date</th>\n",
              "      <th>Open</th>\n",
              "      <th>High</th>\n",
              "      <th>Low</th>\n",
              "      <th>Close</th>\n",
              "      <th>Adj Close</th>\n",
              "      <th>Volume</th>\n",
              "    </tr>\n",
              "  </thead>\n",
              "  <tbody>\n",
              "    <tr>\n",
              "      <th>0</th>\n",
              "      <td>2018-01-02</td>\n",
              "      <td>76403.0</td>\n",
              "      <td>77909.0</td>\n",
              "      <td>76403.0</td>\n",
              "      <td>77891.0</td>\n",
              "      <td>77891.0</td>\n",
              "      <td>2880300.0</td>\n",
              "    </tr>\n",
              "    <tr>\n",
              "      <th>1</th>\n",
              "      <td>2018-01-03</td>\n",
              "      <td>77889.0</td>\n",
              "      <td>78414.0</td>\n",
              "      <td>77602.0</td>\n",
              "      <td>77995.0</td>\n",
              "      <td>77995.0</td>\n",
              "      <td>3142200.0</td>\n",
              "    </tr>\n",
              "    <tr>\n",
              "      <th>2</th>\n",
              "      <td>2018-01-04</td>\n",
              "      <td>77998.0</td>\n",
              "      <td>79135.0</td>\n",
              "      <td>77998.0</td>\n",
              "      <td>78647.0</td>\n",
              "      <td>78647.0</td>\n",
              "      <td>3486100.0</td>\n",
              "    </tr>\n",
              "    <tr>\n",
              "      <th>3</th>\n",
              "      <td>2018-01-05</td>\n",
              "      <td>78644.0</td>\n",
              "      <td>79071.0</td>\n",
              "      <td>78218.0</td>\n",
              "      <td>79071.0</td>\n",
              "      <td>79071.0</td>\n",
              "      <td>2747100.0</td>\n",
              "    </tr>\n",
              "    <tr>\n",
              "      <th>4</th>\n",
              "      <td>2018-01-08</td>\n",
              "      <td>79070.0</td>\n",
              "      <td>79395.0</td>\n",
              "      <td>78631.0</td>\n",
              "      <td>79379.0</td>\n",
              "      <td>79379.0</td>\n",
              "      <td>2550800.0</td>\n",
              "    </tr>\n",
              "    <tr>\n",
              "      <th>5</th>\n",
              "      <td>2018-01-09</td>\n",
              "      <td>79379.0</td>\n",
              "      <td>79415.0</td>\n",
              "      <td>78699.0</td>\n",
              "      <td>78864.0</td>\n",
              "      <td>78864.0</td>\n",
              "      <td>3458600.0</td>\n",
              "    </tr>\n",
              "    <tr>\n",
              "      <th>6</th>\n",
              "      <td>2018-01-10</td>\n",
              "      <td>78864.0</td>\n",
              "      <td>78864.0</td>\n",
              "      <td>78164.0</td>\n",
              "      <td>78201.0</td>\n",
              "      <td>78201.0</td>\n",
              "      <td>2759900.0</td>\n",
              "    </tr>\n",
              "    <tr>\n",
              "      <th>7</th>\n",
              "      <td>2018-01-11</td>\n",
              "      <td>78201.0</td>\n",
              "      <td>79365.0</td>\n",
              "      <td>78201.0</td>\n",
              "      <td>79365.0</td>\n",
              "      <td>79365.0</td>\n",
              "      <td>3409400.0</td>\n",
              "    </tr>\n",
              "    <tr>\n",
              "      <th>8</th>\n",
              "      <td>2018-01-12</td>\n",
              "      <td>79365.0</td>\n",
              "      <td>79440.0</td>\n",
              "      <td>78861.0</td>\n",
              "      <td>79349.0</td>\n",
              "      <td>79349.0</td>\n",
              "      <td>3577800.0</td>\n",
              "    </tr>\n",
              "    <tr>\n",
              "      <th>9</th>\n",
              "      <td>2018-01-15</td>\n",
              "      <td>79349.0</td>\n",
              "      <td>79847.0</td>\n",
              "      <td>79349.0</td>\n",
              "      <td>79752.0</td>\n",
              "      <td>79752.0</td>\n",
              "      <td>1941000.0</td>\n",
              "    </tr>\n",
              "    <tr>\n",
              "      <th>10</th>\n",
              "      <td>2018-01-16</td>\n",
              "      <td>79751.0</td>\n",
              "      <td>80246.0</td>\n",
              "      <td>79668.0</td>\n",
              "      <td>79832.0</td>\n",
              "      <td>79832.0</td>\n",
              "      <td>2982500.0</td>\n",
              "    </tr>\n",
              "    <tr>\n",
              "      <th>11</th>\n",
              "      <td>2018-01-17</td>\n",
              "      <td>79832.0</td>\n",
              "      <td>81189.0</td>\n",
              "      <td>79828.0</td>\n",
              "      <td>81189.0</td>\n",
              "      <td>81189.0</td>\n",
              "      <td>3341200.0</td>\n",
              "    </tr>\n",
              "    <tr>\n",
              "      <th>12</th>\n",
              "      <td>2018-01-18</td>\n",
              "      <td>81185.0</td>\n",
              "      <td>81367.0</td>\n",
              "      <td>80498.0</td>\n",
              "      <td>80963.0</td>\n",
              "      <td>80963.0</td>\n",
              "      <td>3429600.0</td>\n",
              "    </tr>\n",
              "    <tr>\n",
              "      <th>13</th>\n",
              "      <td>2018-01-19</td>\n",
              "      <td>80965.0</td>\n",
              "      <td>81429.0</td>\n",
              "      <td>80854.0</td>\n",
              "      <td>81220.0</td>\n",
              "      <td>81220.0</td>\n",
              "      <td>3123200.0</td>\n",
              "    </tr>\n",
              "    <tr>\n",
              "      <th>14</th>\n",
              "      <td>2018-01-22</td>\n",
              "      <td>81220.0</td>\n",
              "      <td>81675.0</td>\n",
              "      <td>80923.0</td>\n",
              "      <td>81675.0</td>\n",
              "      <td>81675.0</td>\n",
              "      <td>2693000.0</td>\n",
              "    </tr>\n",
              "    <tr>\n",
              "      <th>15</th>\n",
              "      <td>2018-01-23</td>\n",
              "      <td>81676.0</td>\n",
              "      <td>81676.0</td>\n",
              "      <td>80524.0</td>\n",
              "      <td>80678.0</td>\n",
              "      <td>80678.0</td>\n",
              "      <td>3711200.0</td>\n",
              "    </tr>\n",
              "    <tr>\n",
              "      <th>16</th>\n",
              "      <td>2018-01-24</td>\n",
              "      <td>80679.0</td>\n",
              "      <td>83680.0</td>\n",
              "      <td>80679.0</td>\n",
              "      <td>83680.0</td>\n",
              "      <td>83680.0</td>\n",
              "      <td>5503700.0</td>\n",
              "    </tr>\n",
              "    <tr>\n",
              "      <th>17</th>\n",
              "      <td>2018-01-25</td>\n",
              "      <td>82179.5</td>\n",
              "      <td>84605.5</td>\n",
              "      <td>82179.5</td>\n",
              "      <td>84605.5</td>\n",
              "      <td>84605.5</td>\n",
              "      <td>5457150.0</td>\n",
              "    </tr>\n",
              "    <tr>\n",
              "      <th>18</th>\n",
              "      <td>2018-01-26</td>\n",
              "      <td>83680.0</td>\n",
              "      <td>85531.0</td>\n",
              "      <td>83680.0</td>\n",
              "      <td>85531.0</td>\n",
              "      <td>85531.0</td>\n",
              "      <td>5410600.0</td>\n",
              "    </tr>\n",
              "    <tr>\n",
              "      <th>19</th>\n",
              "      <td>2018-01-29</td>\n",
              "      <td>85531.0</td>\n",
              "      <td>85531.0</td>\n",
              "      <td>84341.0</td>\n",
              "      <td>84698.0</td>\n",
              "      <td>84698.0</td>\n",
              "      <td>3889600.0</td>\n",
              "    </tr>\n",
              "  </tbody>\n",
              "</table>\n",
              "</div>\n",
              "      <button class=\"colab-df-convert\" onclick=\"convertToInteractive('df-3f23ab65-f46e-4537-bf90-d96fbb7cf682')\"\n",
              "              title=\"Convert this dataframe to an interactive table.\"\n",
              "              style=\"display:none;\">\n",
              "        \n",
              "  <svg xmlns=\"http://www.w3.org/2000/svg\" height=\"24px\"viewBox=\"0 0 24 24\"\n",
              "       width=\"24px\">\n",
              "    <path d=\"M0 0h24v24H0V0z\" fill=\"none\"/>\n",
              "    <path d=\"M18.56 5.44l.94 2.06.94-2.06 2.06-.94-2.06-.94-.94-2.06-.94 2.06-2.06.94zm-11 1L8.5 8.5l.94-2.06 2.06-.94-2.06-.94L8.5 2.5l-.94 2.06-2.06.94zm10 10l.94 2.06.94-2.06 2.06-.94-2.06-.94-.94-2.06-.94 2.06-2.06.94z\"/><path d=\"M17.41 7.96l-1.37-1.37c-.4-.4-.92-.59-1.43-.59-.52 0-1.04.2-1.43.59L10.3 9.45l-7.72 7.72c-.78.78-.78 2.05 0 2.83L4 21.41c.39.39.9.59 1.41.59.51 0 1.02-.2 1.41-.59l7.78-7.78 2.81-2.81c.8-.78.8-2.07 0-2.86zM5.41 20L4 18.59l7.72-7.72 1.47 1.35L5.41 20z\"/>\n",
              "  </svg>\n",
              "      </button>\n",
              "      \n",
              "  <style>\n",
              "    .colab-df-container {\n",
              "      display:flex;\n",
              "      flex-wrap:wrap;\n",
              "      gap: 12px;\n",
              "    }\n",
              "\n",
              "    .colab-df-convert {\n",
              "      background-color: #E8F0FE;\n",
              "      border: none;\n",
              "      border-radius: 50%;\n",
              "      cursor: pointer;\n",
              "      display: none;\n",
              "      fill: #1967D2;\n",
              "      height: 32px;\n",
              "      padding: 0 0 0 0;\n",
              "      width: 32px;\n",
              "    }\n",
              "\n",
              "    .colab-df-convert:hover {\n",
              "      background-color: #E2EBFA;\n",
              "      box-shadow: 0px 1px 2px rgba(60, 64, 67, 0.3), 0px 1px 3px 1px rgba(60, 64, 67, 0.15);\n",
              "      fill: #174EA6;\n",
              "    }\n",
              "\n",
              "    [theme=dark] .colab-df-convert {\n",
              "      background-color: #3B4455;\n",
              "      fill: #D2E3FC;\n",
              "    }\n",
              "\n",
              "    [theme=dark] .colab-df-convert:hover {\n",
              "      background-color: #434B5C;\n",
              "      box-shadow: 0px 1px 3px 1px rgba(0, 0, 0, 0.15);\n",
              "      filter: drop-shadow(0px 1px 2px rgba(0, 0, 0, 0.3));\n",
              "      fill: #FFFFFF;\n",
              "    }\n",
              "  </style>\n",
              "\n",
              "      <script>\n",
              "        const buttonEl =\n",
              "          document.querySelector('#df-3f23ab65-f46e-4537-bf90-d96fbb7cf682 button.colab-df-convert');\n",
              "        buttonEl.style.display =\n",
              "          google.colab.kernel.accessAllowed ? 'block' : 'none';\n",
              "\n",
              "        async function convertToInteractive(key) {\n",
              "          const element = document.querySelector('#df-3f23ab65-f46e-4537-bf90-d96fbb7cf682');\n",
              "          const dataTable =\n",
              "            await google.colab.kernel.invokeFunction('convertToInteractive',\n",
              "                                                     [key], {});\n",
              "          if (!dataTable) return;\n",
              "\n",
              "          const docLinkHtml = 'Like what you see? Visit the ' +\n",
              "            '<a target=\"_blank\" href=https://colab.research.google.com/notebooks/data_table.ipynb>data table notebook</a>'\n",
              "            + ' to learn more about interactive tables.';\n",
              "          element.innerHTML = '';\n",
              "          dataTable['output_type'] = 'display_data';\n",
              "          await google.colab.output.renderOutput(dataTable, element);\n",
              "          const docLink = document.createElement('div');\n",
              "          docLink.innerHTML = docLinkHtml;\n",
              "          element.appendChild(docLink);\n",
              "        }\n",
              "      </script>\n",
              "    </div>\n",
              "  </div>\n",
              "  "
            ]
          },
          "metadata": {},
          "execution_count": 11
        }
      ]
    },
    {
      "cell_type": "code",
      "source": [
        "dfBP.info()"
      ],
      "metadata": {
        "colab": {
          "base_uri": "https://localhost:8080/"
        },
        "id": "AkV9YTOy1eev",
        "outputId": "d4987d07-2984-4efc-c09b-be5514ac3de7"
      },
      "execution_count": null,
      "outputs": [
        {
          "output_type": "stream",
          "name": "stdout",
          "text": [
            "<class 'pandas.core.frame.DataFrame'>\n",
            "RangeIndex: 1054 entries, 0 to 1053\n",
            "Data columns (total 7 columns):\n",
            " #   Column     Non-Null Count  Dtype  \n",
            "---  ------     --------------  -----  \n",
            " 0   Date       1054 non-null   object \n",
            " 1   Open       1054 non-null   float64\n",
            " 2   High       1054 non-null   float64\n",
            " 3   Low        1054 non-null   float64\n",
            " 4   Close      1054 non-null   float64\n",
            " 5   Adj Close  1054 non-null   float64\n",
            " 6   Volume     1054 non-null   float64\n",
            "dtypes: float64(6), object(1)\n",
            "memory usage: 57.8+ KB\n"
          ]
        }
      ]
    },
    {
      "cell_type": "code",
      "source": [
        "dfBP.isnull().values.any()"
      ],
      "metadata": {
        "colab": {
          "base_uri": "https://localhost:8080/"
        },
        "id": "mgCL6orm1IEq",
        "outputId": "2413bed9-adcb-4d8c-fa9d-17390fa249d3"
      },
      "execution_count": null,
      "outputs": [
        {
          "output_type": "execute_result",
          "data": {
            "text/plain": [
              "False"
            ]
          },
          "metadata": {},
          "execution_count": 13
        }
      ]
    },
    {
      "cell_type": "code",
      "source": [
        "#Plot the time series graph\n",
        "plt.plot(dfBP[\"Open\"],'r')\n",
        "plt.ylabel('price')\n",
        "plt.xlabel('Days')\n",
        "plt.suptitle('BVSP')"
      ],
      "metadata": {
        "colab": {
          "base_uri": "https://localhost:8080/",
          "height": 326
        },
        "id": "LP6W2US_nbMZ",
        "outputId": "f68963f8-95c3-44ca-bfef-d8cbfb6e7839"
      },
      "execution_count": null,
      "outputs": [
        {
          "output_type": "execute_result",
          "data": {
            "text/plain": [
              "Text(0.5, 0.98, 'BVSP')"
            ]
          },
          "metadata": {},
          "execution_count": 14
        },
        {
          "output_type": "display_data",
          "data": {
            "text/plain": [
              "<Figure size 432x288 with 1 Axes>"
            ],
            "image/png": "[encoded data removed]"
          },
          "metadata": {
            "needs_background": "light"
          }
        }
      ]
    },
    {
      "cell_type": "code",
      "source": [
        "test = dfBP.tail(30)\n",
        "train = dfBP.iloc[:-30]"
      ],
      "metadata": {
        "id": "2FWi0aHpo_SQ"
      },
      "execution_count": null,
      "outputs": []
    },
    {
      "cell_type": "code",
      "execution_count": null,
      "metadata": {
        "colab": {
          "base_uri": "https://localhost:8080/",
          "height": 206
        },
        "id": "92sL3kH9XsOJ",
        "outputId": "e392bffb-32d5-4c24-eee9-f278912c887e"
      },
      "outputs": [
        {
          "output_type": "execute_result",
          "data": {
            "text/plain": [
              "         Date     Open     High      Low    Close  Adj Close     Volume\n",
              "0  2018-01-02  76403.0  77909.0  76403.0  77891.0    77891.0  2880300.0\n",
              "1  2018-01-03  77889.0  78414.0  77602.0  77995.0    77995.0  3142200.0\n",
              "2  2018-01-04  77998.0  79135.0  77998.0  78647.0    78647.0  3486100.0\n",
              "3  2018-01-05  78644.0  79071.0  78218.0  79071.0    79071.0  2747100.0\n",
              "4  2018-01-08  79070.0  79395.0  78631.0  79379.0    79379.0  2550800.0"
            ],
            "text/html": [
              "\n",
              "  <div id=\"df-e3d4e2d7-94e8-4db3-a631-b42ad3b540d2\">\n",
              "    <div class=\"colab-df-container\">\n",
              "      <div>\n",
              "<style scoped>\n",
              "    .dataframe tbody tr th:only-of-type {\n",
              "        vertical-align: middle;\n",
              "    }\n",
              "\n",
              "    .dataframe tbody tr th {\n",
              "        vertical-align: top;\n",
              "    }\n",
              "\n",
              "    .dataframe thead th {\n",
              "        text-align: right;\n",
              "    }\n",
              "</style>\n",
              "<table border=\"1\" class=\"dataframe\">\n",
              "  <thead>\n",
              "    <tr style=\"text-align: right;\">\n",
              "      <th></th>\n",
              "      <th>Date</th>\n",
              "      <th>Open</th>\n",
              "      <th>High</th>\n",
              "      <th>Low</th>\n",
              "      <th>Close</th>\n",
              "      <th>Adj Close</th>\n",
              "      <th>Volume</th>\n",
              "    </tr>\n",
              "  </thead>\n",
              "  <tbody>\n",
              "    <tr>\n",
              "      <th>0</th>\n",
              "      <td>2018-01-02</td>\n",
              "      <td>76403.0</td>\n",
              "      <td>77909.0</td>\n",
              "      <td>76403.0</td>\n",
              "      <td>77891.0</td>\n",
              "      <td>77891.0</td>\n",
              "      <td>2880300.0</td>\n",
              "    </tr>\n",
              "    <tr>\n",
              "      <th>1</th>\n",
              "      <td>2018-01-03</td>\n",
              "      <td>77889.0</td>\n",
              "      <td>78414.0</td>\n",
              "      <td>77602.0</td>\n",
              "      <td>77995.0</td>\n",
              "      <td>77995.0</td>\n",
              "      <td>3142200.0</td>\n",
              "    </tr>\n",
              "    <tr>\n",
              "      <th>2</th>\n",
              "      <td>2018-01-04</td>\n",
              "      <td>77998.0</td>\n",
              "      <td>79135.0</td>\n",
              "      <td>77998.0</td>\n",
              "      <td>78647.0</td>\n",
              "      <td>78647.0</td>\n",
              "      <td>3486100.0</td>\n",
              "    </tr>\n",
              "    <tr>\n",
              "      <th>3</th>\n",
              "      <td>2018-01-05</td>\n",
              "      <td>78644.0</td>\n",
              "      <td>79071.0</td>\n",
              "      <td>78218.0</td>\n",
              "      <td>79071.0</td>\n",
              "      <td>79071.0</td>\n",
              "      <td>2747100.0</td>\n",
              "    </tr>\n",
              "    <tr>\n",
              "      <th>4</th>\n",
              "      <td>2018-01-08</td>\n",
              "      <td>79070.0</td>\n",
              "      <td>79395.0</td>\n",
              "      <td>78631.0</td>\n",
              "      <td>79379.0</td>\n",
              "      <td>79379.0</td>\n",
              "      <td>2550800.0</td>\n",
              "    </tr>\n",
              "  </tbody>\n",
              "</table>\n",
              "</div>\n",
              "      <button class=\"colab-df-convert\" onclick=\"convertToInteractive('df-e3d4e2d7-94e8-4db3-a631-b42ad3b540d2')\"\n",
              "              title=\"Convert this dataframe to an interactive table.\"\n",
              "              style=\"display:none;\">\n",
              "        \n",
              "  <svg xmlns=\"http://www.w3.org/2000/svg\" height=\"24px\"viewBox=\"0 0 24 24\"\n",
              "       width=\"24px\">\n",
              "    <path d=\"M0 0h24v24H0V0z\" fill=\"none\"/>\n",
              "    <path d=\"M18.56 5.44l.94 2.06.94-2.06 2.06-.94-2.06-.94-.94-2.06-.94 2.06-2.06.94zm-11 1L8.5 8.5l.94-2.06 2.06-.94-2.06-.94L8.5 2.5l-.94 2.06-2.06.94zm10 10l.94 2.06.94-2.06 2.06-.94-2.06-.94-.94-2.06-.94 2.06-2.06.94z\"/><path d=\"M17.41 7.96l-1.37-1.37c-.4-.4-.92-.59-1.43-.59-.52 0-1.04.2-1.43.59L10.3 9.45l-7.72 7.72c-.78.78-.78 2.05 0 2.83L4 21.41c.39.39.9.59 1.41.59.51 0 1.02-.2 1.41-.59l7.78-7.78 2.81-2.81c.8-.78.8-2.07 0-2.86zM5.41 20L4 18.59l7.72-7.72 1.47 1.35L5.41 20z\"/>\n",
              "  </svg>\n",
              "      </button>\n",
              "      \n",
              "  <style>\n",
              "    .colab-df-container {\n",
              "      display:flex;\n",
              "      flex-wrap:wrap;\n",
              "      gap: 12px;\n",
              "    }\n",
              "\n",
              "    .colab-df-convert {\n",
              "      background-color: #E8F0FE;\n",
              "      border: none;\n",
              "      border-radius: 50%;\n",
              "      cursor: pointer;\n",
              "      display: none;\n",
              "      fill: #1967D2;\n",
              "      height: 32px;\n",
              "      padding: 0 0 0 0;\n",
              "      width: 32px;\n",
              "    }\n",
              "\n",
              "    .colab-df-convert:hover {\n",
              "      background-color: #E2EBFA;\n",
              "      box-shadow: 0px 1px 2px rgba(60, 64, 67, 0.3), 0px 1px 3px 1px rgba(60, 64, 67, 0.15);\n",
              "      fill: #174EA6;\n",
              "    }\n",
              "\n",
              "    [theme=dark] .colab-df-convert {\n",
              "      background-color: #3B4455;\n",
              "      fill: #D2E3FC;\n",
              "    }\n",
              "\n",
              "    [theme=dark] .colab-df-convert:hover {\n",
              "      background-color: #434B5C;\n",
              "      box-shadow: 0px 1px 3px 1px rgba(0, 0, 0, 0.15);\n",
              "      filter: drop-shadow(0px 1px 2px rgba(0, 0, 0, 0.3));\n",
              "      fill: #FFFFFF;\n",
              "    }\n",
              "  </style>\n",
              "\n",
              "      <script>\n",
              "        const buttonEl =\n",
              "          document.querySelector('#df-e3d4e2d7-94e8-4db3-a631-b42ad3b540d2 button.colab-df-convert');\n",
              "        buttonEl.style.display =\n",
              "          google.colab.kernel.accessAllowed ? 'block' : 'none';\n",
              "\n",
              "        async function convertToInteractive(key) {\n",
              "          const element = document.querySelector('#df-e3d4e2d7-94e8-4db3-a631-b42ad3b540d2');\n",
              "          const dataTable =\n",
              "            await google.colab.kernel.invokeFunction('convertToInteractive',\n",
              "                                                     [key], {});\n",
              "          if (!dataTable) return;\n",
              "\n",
              "          const docLinkHtml = 'Like what you see? Visit the ' +\n",
              "            '<a target=\"_blank\" href=https://colab.research.google.com/notebooks/data_table.ipynb>data table notebook</a>'\n",
              "            + ' to learn more about interactive tables.';\n",
              "          element.innerHTML = '';\n",
              "          dataTable['output_type'] = 'display_data';\n",
              "          await google.colab.output.renderOutput(dataTable, element);\n",
              "          const docLink = document.createElement('div');\n",
              "          docLink.innerHTML = docLinkHtml;\n",
              "          element.appendChild(docLink);\n",
              "        }\n",
              "      </script>\n",
              "    </div>\n",
              "  </div>\n",
              "  "
            ]
          },
          "metadata": {},
          "execution_count": 16
        }
      ],
      "source": [
        "train.head()"
      ]
    },
    {
      "cell_type": "code",
      "source": [
        "train.shape"
      ],
      "metadata": {
        "colab": {
          "base_uri": "https://localhost:8080/"
        },
        "id": "E4WycVA3q0y0",
        "outputId": "ddef9f23-e383-4a84-be4e-825cda4cc664"
      },
      "execution_count": null,
      "outputs": [
        {
          "output_type": "execute_result",
          "data": {
            "text/plain": [
              "(1024, 7)"
            ]
          },
          "metadata": {},
          "execution_count": 17
        }
      ]
    },
    {
      "cell_type": "code",
      "source": [
        "test.shape"
      ],
      "metadata": {
        "colab": {
          "base_uri": "https://localhost:8080/"
        },
        "id": "UcpQJGOQq5EB",
        "outputId": "43175474-c1f7-4e58-ea8f-69ad946e08de"
      },
      "execution_count": null,
      "outputs": [
        {
          "output_type": "execute_result",
          "data": {
            "text/plain": [
              "(30, 7)"
            ]
          },
          "metadata": {},
          "execution_count": 18
        }
      ]
    },
    {
      "cell_type": "code",
      "execution_count": null,
      "metadata": {
        "id": "YFG8QYgMXsOK",
        "colab": {
          "base_uri": "https://localhost:8080/"
        },
        "outputId": "b295285b-455c-458b-dcaf-bffef7892aa3"
      },
      "outputs": [
        {
          "output_type": "execute_result",
          "data": {
            "text/plain": [
              "array([[ 76403.],\n",
              "       [ 77889.],\n",
              "       [ 77998.],\n",
              "       ...,\n",
              "       [114830.],\n",
              "       [115181.],\n",
              "       [113534.]])"
            ]
          },
          "metadata": {},
          "execution_count": 19
        }
      ],
      "source": [
        "#taking open price from data in 2d array , if we will do train.loc[:, 'open'].values it gives one d array which wont\n",
        "#be considered in scaling\n",
        "train_open= train.iloc[:, 1:2].values\n",
        "train_open"
      ]
    },
    {
      "cell_type": "code",
      "execution_count": null,
      "metadata": {
        "id": "rhi3B6KGXsOK"
      },
      "outputs": [],
      "source": [
        "#Scaling the values between 0 to 1\n",
        "from sklearn.preprocessing import MinMaxScaler\n",
        "ss= MinMaxScaler(feature_range=(0,1))\n",
        "train_open_scaled= ss.fit_transform(train_open)"
      ]
    },
    {
      "cell_type": "code",
      "source": [
        "#train_open_scaled"
      ],
      "metadata": {
        "id": "b7ZQmN20qkhh"
      },
      "execution_count": null,
      "outputs": []
    },
    {
      "cell_type": "code",
      "execution_count": null,
      "metadata": {
        "colab": {
          "base_uri": "https://localhost:8080/"
        },
        "id": "ls_fAmL2XsOL",
        "outputId": "0a30b7a2-5a45-40ba-be67-a9bc44fdb2e2"
      },
      "outputs": [
        {
          "output_type": "execute_result",
          "data": {
            "text/plain": [
              "array([0.30176264])"
            ]
          },
          "metadata": {},
          "execution_count": 21
        }
      ],
      "source": [
        "train_open_scaled[60]"
      ]
    },
    {
      "cell_type": "markdown",
      "metadata": {
        "id": "fQXIr8S5XsOL"
      },
      "source": [
        "Below we will be taking previous 70 days open datasteps to predict the next values so we are converting the data as per our input in LTSM layers.\n",
        "i.e for taking 0 to 69 days open price to get 70th day price as output, 1 to 70 for 71, 2 to 71 for 72...."
      ]
    },
    {
      "cell_type": "code",
      "execution_count": null,
      "metadata": {
        "id": "gQH64HZxXsOM"
      },
      "outputs": [],
      "source": [
        "# Feature selection\n",
        "def feature(train_open_scaled):\n",
        "  \n",
        "  xtrain=[]\n",
        "  ytrain=[]\n",
        "  for i in range(70,len(train_open_scaled)):\n",
        "    xtrain.append(train_open_scaled[i-70:i,0])\n",
        "    ytrain.append(train_open_scaled[i,0])\n",
        "\n",
        "  xtrain, ytrain = np.array(xtrain), np.array(ytrain)\n",
        "\n",
        "  return xtrain, ytrain"
      ]
    },
    {
      "cell_type": "code",
      "source": [
        "xtrain, ytrain = feature(train_open_scaled)"
      ],
      "metadata": {
        "id": "oSTjViglDfAx"
      },
      "execution_count": null,
      "outputs": []
    },
    {
      "cell_type": "code",
      "execution_count": null,
      "metadata": {
        "id": "KUzZ1DdRXsOM"
      },
      "outputs": [],
      "source": [
        "#Reshaping the train data to make it as input for LTSM layer input_shape(batchzise,timesteps,input_dim)\n",
        "xtrain= np.reshape(xtrain,(xtrain.shape[0],xtrain.shape[1],1))"
      ]
    },
    {
      "cell_type": "code",
      "source": [
        "#xtrain"
      ],
      "metadata": {
        "id": "soGBtq9z_Z_u"
      },
      "execution_count": null,
      "outputs": []
    },
    {
      "cell_type": "code",
      "execution_count": null,
      "metadata": {
        "colab": {
          "base_uri": "https://localhost:8080/"
        },
        "id": "1nbauvo4XsON",
        "outputId": "b98cd168-aa13-403d-ce84-5b55f503fbff"
      },
      "outputs": [
        {
          "output_type": "execute_result",
          "data": {
            "text/plain": [
              "(954, 70, 1)"
            ]
          },
          "metadata": {},
          "execution_count": 26
        }
      ],
      "source": [
        "xtrain.shape"
      ]
    },
    {
      "cell_type": "markdown",
      "metadata": {
        "id": "Hz6Th8vRXsON"
      },
      "source": [
        "### Building the LSTM Network"
      ]
    },
    {
      "cell_type": "code",
      "execution_count": null,
      "metadata": {
        "id": "lZzaXBL4XsON"
      },
      "outputs": [],
      "source": [
        "from keras.models import Sequential\n",
        "from keras.layers import LSTM\n",
        "from keras.layers import Dense\n",
        "from keras.layers import Dropout"
      ]
    },
    {
      "cell_type": "code",
      "execution_count": null,
      "metadata": {
        "id": "JsWtmFz-XsOO"
      },
      "outputs": [],
      "source": [
        "#initialisizng the model \n",
        "regression= Sequential()\n",
        "\n",
        "#First Input layer and LSTM layer with 0.2% dropout\n",
        "regression.add(LSTM(units=50,return_sequences=True,kernel_initializer='glorot_uniform',input_shape=(xtrain.shape[1],1)))\n",
        "regression.add(Dropout(0.2))\n",
        "\n",
        "# Where:\n",
        "#     return_sequences: Boolean. Whether to return the last output in the output sequence, or the full sequence.\n",
        "\n",
        "# Second LSTM layer with 0.2% dropout\n",
        "regression.add(LSTM(units=50,kernel_initializer='glorot_uniform',return_sequences=True))\n",
        "regression.add(Dropout(0.2))\n",
        "\n",
        "#Third LSTM layer with 0.2% dropout\n",
        "regression.add(LSTM(units=50,kernel_initializer='glorot_uniform',return_sequences=True))\n",
        "\n",
        "regression.add(Dense(128, activation='tanh'),)\n",
        "regression.add(Dropout(0.2))\n",
        "#Fourth LSTM layer with 0.2% dropout, we wont use return sequence true in last layers as we dont want to previous output\n",
        "regression.add(Dense(128, activation='tanh'),)\n",
        "regression.add(LSTM(units=50))\n",
        "#regression.add(Dropout(0.2))\n",
        "\n",
        "#Output layer , we wont pass any activation as its continous value model\n",
        "#regression.add(Dense(units=1,activation='linear'))\n",
        "regression.add(Dense(units=1))\n",
        "\n",
        "#Compiling the network\n",
        "regression.compile(optimizer='adam',loss='mean_squared_error')\n",
        "\n",
        "\n"
      ]
    },
    {
      "cell_type": "code",
      "source": [
        "#fitting the network\n",
        "regression.fit(xtrain,ytrain,batch_size=30,epochs=100)"
      ],
      "metadata": {
        "id": "B2gYdA5rlBmo",
        "colab": {
          "base_uri": "https://localhost:8080/"
        },
        "outputId": "90514d84-e75e-44df-9a8d-f85e4950796c"
      },
      "execution_count": null,
      "outputs": [
        {
          "output_type": "stream",
          "name": "stdout",
          "text": [
            "Epoch 1/100\n",
            "32/32 [==============================] - 14s 175ms/step - loss: 0.0463\n",
            "Epoch 2/100\n",
            "32/32 [==============================] - 6s 177ms/step - loss: 0.0088\n",
            "Epoch 3/100\n",
            "32/32 [==============================] - 6s 175ms/step - loss: 0.0066\n",
            "Epoch 4/100\n",
            "32/32 [==============================] - 6s 178ms/step - loss: 0.0058\n",
            "Epoch 5/100\n",
            "32/32 [==============================] - 6s 178ms/step - loss: 0.0053\n",
            "Epoch 6/100\n",
            "32/32 [==============================] - 5s 170ms/step - loss: 0.0051\n",
            "Epoch 7/100\n",
            "32/32 [==============================] - 5s 171ms/step - loss: 0.0046\n",
            "Epoch 8/100\n",
            "32/32 [==============================] - 5s 170ms/step - loss: 0.0047\n",
            "Epoch 9/100\n",
            "32/32 [==============================] - 5s 171ms/step - loss: 0.0039\n",
            "Epoch 10/100\n",
            "32/32 [==============================] - 7s 215ms/step - loss: 0.0038\n",
            "Epoch 11/100\n",
            "32/32 [==============================] - 5s 171ms/step - loss: 0.0036\n",
            "Epoch 12/100\n",
            "32/32 [==============================] - 5s 169ms/step - loss: 0.0035\n",
            "Epoch 13/100\n",
            "32/32 [==============================] - 5s 171ms/step - loss: 0.0038\n",
            "Epoch 14/100\n",
            "32/32 [==============================] - 5s 171ms/step - loss: 0.0033\n",
            "Epoch 15/100\n",
            "32/32 [==============================] - 6s 172ms/step - loss: 0.0030\n",
            "Epoch 16/100\n",
            "32/32 [==============================] - 5s 169ms/step - loss: 0.0031\n",
            "Epoch 17/100\n",
            "32/32 [==============================] - 5s 169ms/step - loss: 0.0029\n",
            "Epoch 18/100\n",
            "32/32 [==============================] - 5s 168ms/step - loss: 0.0027\n",
            "Epoch 19/100\n",
            "32/32 [==============================] - 5s 170ms/step - loss: 0.0027\n",
            "Epoch 20/100\n",
            "32/32 [==============================] - 5s 168ms/step - loss: 0.0028\n",
            "Epoch 21/100\n",
            "32/32 [==============================] - 5s 170ms/step - loss: 0.0030\n",
            "Epoch 22/100\n",
            "32/32 [==============================] - 6s 173ms/step - loss: 0.0027\n",
            "Epoch 23/100\n",
            "32/32 [==============================] - 6s 173ms/step - loss: 0.0023\n",
            "Epoch 24/100\n",
            "32/32 [==============================] - 5s 172ms/step - loss: 0.0024\n",
            "Epoch 25/100\n",
            "32/32 [==============================] - 5s 169ms/step - loss: 0.0022\n",
            "Epoch 26/100\n",
            "32/32 [==============================] - 5s 164ms/step - loss: 0.0022\n",
            "Epoch 27/100\n",
            "32/32 [==============================] - 5s 166ms/step - loss: 0.0022\n",
            "Epoch 28/100\n",
            "32/32 [==============================] - 5s 166ms/step - loss: 0.0028\n",
            "Epoch 29/100\n",
            "32/32 [==============================] - 5s 166ms/step - loss: 0.0021\n",
            "Epoch 30/100\n",
            "32/32 [==============================] - 5s 165ms/step - loss: 0.0018\n",
            "Epoch 31/100\n",
            "32/32 [==============================] - 5s 166ms/step - loss: 0.0018\n",
            "Epoch 32/100\n",
            "32/32 [==============================] - 5s 163ms/step - loss: 0.0022\n",
            "Epoch 33/100\n",
            "32/32 [==============================] - 5s 169ms/step - loss: 0.0020\n",
            "Epoch 34/100\n",
            "32/32 [==============================] - 5s 169ms/step - loss: 0.0022\n",
            "Epoch 35/100\n",
            "32/32 [==============================] - 5s 169ms/step - loss: 0.0020\n",
            "Epoch 36/100\n",
            "32/32 [==============================] - 5s 168ms/step - loss: 0.0020\n",
            "Epoch 37/100\n",
            "32/32 [==============================] - 5s 167ms/step - loss: 0.0018\n",
            "Epoch 38/100\n",
            "32/32 [==============================] - 5s 165ms/step - loss: 0.0018\n",
            "Epoch 39/100\n",
            "32/32 [==============================] - 5s 163ms/step - loss: 0.0017\n",
            "Epoch 40/100\n",
            "32/32 [==============================] - 5s 163ms/step - loss: 0.0017\n",
            "Epoch 41/100\n",
            "32/32 [==============================] - 5s 168ms/step - loss: 0.0016\n",
            "Epoch 42/100\n",
            "32/32 [==============================] - 5s 163ms/step - loss: 0.0016\n",
            "Epoch 43/100\n",
            "32/32 [==============================] - 5s 166ms/step - loss: 0.0015\n",
            "Epoch 44/100\n",
            "32/32 [==============================] - 5s 163ms/step - loss: 0.0015\n",
            "Epoch 45/100\n",
            "32/32 [==============================] - 5s 164ms/step - loss: 0.0016\n",
            "Epoch 46/100\n",
            "32/32 [==============================] - 5s 165ms/step - loss: 0.0015\n",
            "Epoch 47/100\n",
            "32/32 [==============================] - 5s 164ms/step - loss: 0.0015\n",
            "Epoch 48/100\n",
            "32/32 [==============================] - 5s 168ms/step - loss: 0.0015\n",
            "Epoch 49/100\n",
            "32/32 [==============================] - 5s 166ms/step - loss: 0.0015\n",
            "Epoch 50/100\n",
            "32/32 [==============================] - 5s 166ms/step - loss: 0.0015\n",
            "Epoch 51/100\n",
            "32/32 [==============================] - 5s 167ms/step - loss: 0.0017\n",
            "Epoch 52/100\n",
            "32/32 [==============================] - 5s 168ms/step - loss: 0.0015\n",
            "Epoch 53/100\n",
            "32/32 [==============================] - 5s 169ms/step - loss: 0.0014\n",
            "Epoch 54/100\n",
            "32/32 [==============================] - 5s 169ms/step - loss: 0.0014\n",
            "Epoch 55/100\n",
            "32/32 [==============================] - 7s 222ms/step - loss: 0.0015\n",
            "Epoch 56/100\n",
            "32/32 [==============================] - 5s 166ms/step - loss: 0.0013\n",
            "Epoch 57/100\n",
            "32/32 [==============================] - 5s 164ms/step - loss: 0.0014\n",
            "Epoch 58/100\n",
            "32/32 [==============================] - 5s 171ms/step - loss: 0.0013\n",
            "Epoch 59/100\n",
            "32/32 [==============================] - 5s 169ms/step - loss: 0.0015\n",
            "Epoch 60/100\n",
            "32/32 [==============================] - 6s 173ms/step - loss: 0.0015\n",
            "Epoch 61/100\n",
            "32/32 [==============================] - 5s 170ms/step - loss: 0.0014\n",
            "Epoch 62/100\n",
            "32/32 [==============================] - 5s 171ms/step - loss: 0.0015\n",
            "Epoch 63/100\n",
            "32/32 [==============================] - 6s 172ms/step - loss: 0.0013\n",
            "Epoch 64/100\n",
            "32/32 [==============================] - 6s 172ms/step - loss: 0.0014\n",
            "Epoch 65/100\n",
            "32/32 [==============================] - 6s 173ms/step - loss: 0.0016\n",
            "Epoch 66/100\n",
            "32/32 [==============================] - 6s 176ms/step - loss: 0.0014\n",
            "Epoch 67/100\n",
            "32/32 [==============================] - 6s 173ms/step - loss: 0.0014\n",
            "Epoch 68/100\n",
            "32/32 [==============================] - 6s 172ms/step - loss: 0.0012\n",
            "Epoch 69/100\n",
            "32/32 [==============================] - 6s 174ms/step - loss: 0.0014\n",
            "Epoch 70/100\n",
            "32/32 [==============================] - 5s 170ms/step - loss: 0.0013\n",
            "Epoch 71/100\n",
            "32/32 [==============================] - 6s 173ms/step - loss: 0.0012\n",
            "Epoch 72/100\n",
            "32/32 [==============================] - 6s 173ms/step - loss: 0.0013\n",
            "Epoch 73/100\n",
            "32/32 [==============================] - 5s 171ms/step - loss: 0.0013\n",
            "Epoch 74/100\n",
            "32/32 [==============================] - 6s 174ms/step - loss: 0.0013\n",
            "Epoch 75/100\n",
            "32/32 [==============================] - 5s 165ms/step - loss: 0.0012\n",
            "Epoch 76/100\n",
            "32/32 [==============================] - 5s 167ms/step - loss: 0.0012\n",
            "Epoch 77/100\n",
            "32/32 [==============================] - 5s 167ms/step - loss: 0.0012\n",
            "Epoch 78/100\n",
            "32/32 [==============================] - 5s 166ms/step - loss: 0.0012\n",
            "Epoch 79/100\n",
            "32/32 [==============================] - 5s 167ms/step - loss: 0.0012\n",
            "Epoch 80/100\n",
            "32/32 [==============================] - 5s 164ms/step - loss: 0.0014\n",
            "Epoch 81/100\n",
            "32/32 [==============================] - 6s 172ms/step - loss: 0.0014\n",
            "Epoch 82/100\n",
            "32/32 [==============================] - 5s 167ms/step - loss: 0.0011\n",
            "Epoch 83/100\n",
            "32/32 [==============================] - 5s 163ms/step - loss: 0.0012\n",
            "Epoch 84/100\n",
            "32/32 [==============================] - 5s 166ms/step - loss: 0.0011\n",
            "Epoch 85/100\n",
            "32/32 [==============================] - 5s 166ms/step - loss: 0.0012\n",
            "Epoch 86/100\n",
            "32/32 [==============================] - 5s 163ms/step - loss: 0.0012\n",
            "Epoch 87/100\n",
            "32/32 [==============================] - 5s 166ms/step - loss: 0.0011\n",
            "Epoch 88/100\n",
            "32/32 [==============================] - 5s 167ms/step - loss: 0.0012\n",
            "Epoch 89/100\n",
            "32/32 [==============================] - 5s 170ms/step - loss: 0.0012\n",
            "Epoch 90/100\n",
            "32/32 [==============================] - 5s 166ms/step - loss: 0.0010\n",
            "Epoch 91/100\n",
            "32/32 [==============================] - 5s 171ms/step - loss: 0.0014\n",
            "Epoch 92/100\n",
            "32/32 [==============================] - 6s 176ms/step - loss: 0.0012\n",
            "Epoch 93/100\n",
            "32/32 [==============================] - 6s 175ms/step - loss: 0.0011\n",
            "Epoch 94/100\n",
            "32/32 [==============================] - 5s 171ms/step - loss: 0.0011\n",
            "Epoch 95/100\n",
            "32/32 [==============================] - 6s 173ms/step - loss: 0.0012\n",
            "Epoch 96/100\n",
            "32/32 [==============================] - 5s 170ms/step - loss: 9.8772e-04\n",
            "Epoch 97/100\n",
            "32/32 [==============================] - 5s 171ms/step - loss: 0.0010\n",
            "Epoch 98/100\n",
            "32/32 [==============================] - 5s 169ms/step - loss: 0.0011\n",
            "Epoch 99/100\n",
            "32/32 [==============================] - 6s 173ms/step - loss: 0.0010\n",
            "Epoch 100/100\n",
            "32/32 [==============================] - 6s 174ms/step - loss: 0.0010\n"
          ]
        },
        {
          "output_type": "execute_result",
          "data": {
            "text/plain": [
              "<keras.callbacks.History at 0x7f1f6b2f73d0>"
            ]
          },
          "metadata": {},
          "execution_count": 29
        }
      ]
    },
    {
      "cell_type": "markdown",
      "metadata": {
        "id": "BDC1-S_qXsOO"
      },
      "source": [
        "### Predicting for test data\n",
        "\n",
        "As we have 70 input in our layer, we will concatenate our train and test and will take last 70 values of our training set with test set"
      ]
    },
    {
      "cell_type": "code",
      "execution_count": null,
      "metadata": {
        "id": "GTOB-rZYXsOO"
      },
      "outputs": [],
      "source": [
        "def concate(train,test,ss):\n",
        "  test_open= test.iloc[:, 1:2].values #taking  open price\n",
        "  total= pd.concat([train['Open'],test['Open']],axis=0) # Concating train and test and then will take last 70 train point\n",
        "  test_input = total[len(total)-len(test)-70:].values\n",
        "  test_input= test_input.reshape(-1,1) # reshaping it to get it transformed\n",
        "  test_input= ss.transform(test_input)\n",
        "  return test_input, test_open"
      ]
    },
    {
      "cell_type": "code",
      "source": [
        "test_input, test_open = concate(train,test,ss)"
      ],
      "metadata": {
        "id": "BMMwhxaQvwWL"
      },
      "execution_count": null,
      "outputs": []
    },
    {
      "cell_type": "code",
      "execution_count": null,
      "metadata": {
        "id": "w0-QMCf6XsOO"
      },
      "outputs": [],
      "source": [
        "xtest= []\n",
        "for i in range(70,100):\n",
        "    xtest.append(test_input[i-70:i,0]) #creating input for lstm prediction"
      ]
    },
    {
      "cell_type": "code",
      "execution_count": null,
      "metadata": {
        "id": "Jyv0umrcXsOP"
      },
      "outputs": [],
      "source": [
        "xtest= np.array(xtest)"
      ]
    },
    {
      "cell_type": "code",
      "execution_count": null,
      "metadata": {
        "id": "o7_0dGm0XsOP"
      },
      "outputs": [],
      "source": [
        "xtest= np.reshape(xtest,(xtest.shape[0],xtest.shape[1],1))\n",
        "predicted_value= regression.predict(xtest)\n"
      ]
    },
    {
      "cell_type": "code",
      "execution_count": null,
      "metadata": {
        "id": "NfDfLeM3XsOP"
      },
      "outputs": [],
      "source": [
        "predicted_value= ss.inverse_transform(predicted_value)"
      ]
    },
    {
      "cell_type": "markdown",
      "metadata": {
        "id": "yC8G3ZupXsOP"
      },
      "source": [
        "### Plotting the data"
      ]
    },
    {
      "cell_type": "code",
      "execution_count": null,
      "metadata": {
        "colab": {
          "base_uri": "https://localhost:8080/",
          "height": 620
        },
        "id": "VTm_sXgmXsOP",
        "outputId": "1a5c1ef7-0dd9-4492-fd94-e14a562bcd86"
      },
      "outputs": [
        {
          "output_type": "execute_result",
          "data": {
            "text/plain": [
              "<matplotlib.legend.Legend at 0x7f1f69a12250>"
            ]
          },
          "metadata": {},
          "execution_count": 36
        },
        {
          "output_type": "display_data",
          "data": {
            "text/plain": [
              "<Figure size 2160x1080 with 1 Axes>"
            ],
            "image/png": "[encoded data removed]"
          },
          "metadata": {
            "needs_background": "light"
          }
        }
      ],
      "source": [
        "plt.figure(figsize=(30,15))\n",
        "plt.plot(test_open,'red',label='Real Prices')\n",
        "plt.plot(predicted_value,'blue',label='Predicted Prices')\n",
        "plt.xlabel('Time')\n",
        "plt.ylabel('Prices')\n",
        "plt.title('Real vs Predicted Prices')\n",
        "plt.legend(loc='best', fontsize=20)\n"
      ]
    },
    {
      "cell_type": "markdown",
      "source": [
        "#PESi dataset"
      ],
      "metadata": {
        "id": "czrRlEs3x9I8"
      }
    },
    {
      "cell_type": "code",
      "source": [
        "#Importing the data\n",
        "dfPS= pd.read_csv('/content/drive/MyDrive/emergent-market-data/PSEi.csv')\n",
        "dfPS.shape"
      ],
      "metadata": {
        "colab": {
          "base_uri": "https://localhost:8080/"
        },
        "id": "lJHUnx7SpM0e",
        "outputId": "48f95ea5-ea2b-4d4c-84c8-3b5ce5eb423d"
      },
      "execution_count": null,
      "outputs": [
        {
          "output_type": "execute_result",
          "data": {
            "text/plain": [
              "(1279, 5)"
            ]
          },
          "metadata": {},
          "execution_count": 38
        }
      ]
    },
    {
      "cell_type": "code",
      "source": [
        "dfPS.info()"
      ],
      "metadata": {
        "colab": {
          "base_uri": "https://localhost:8080/"
        },
        "id": "_SF-keJ2ybbd",
        "outputId": "e1f9a5dd-8bf0-4cf4-beab-e601c48abda9"
      },
      "execution_count": null,
      "outputs": [
        {
          "output_type": "stream",
          "name": "stdout",
          "text": [
            "<class 'pandas.core.frame.DataFrame'>\n",
            "RangeIndex: 1279 entries, 0 to 1278\n",
            "Data columns (total 5 columns):\n",
            " #   Column  Non-Null Count  Dtype  \n",
            "---  ------  --------------  -----  \n",
            " 0   Date    1279 non-null   object \n",
            " 1    Open   1279 non-null   float64\n",
            " 2    High   1279 non-null   float64\n",
            " 3    Low    1279 non-null   float64\n",
            " 4    Close  1279 non-null   float64\n",
            "dtypes: float64(4), object(1)\n",
            "memory usage: 50.1+ KB\n"
          ]
        }
      ]
    },
    {
      "cell_type": "code",
      "source": [
        "dfPS.head()"
      ],
      "metadata": {
        "colab": {
          "base_uri": "https://localhost:8080/",
          "height": 206
        },
        "id": "CBBPGkBhybYD",
        "outputId": "2bb7102d-421b-4281-fef9-59846c0c46f9"
      },
      "execution_count": null,
      "outputs": [
        {
          "output_type": "execute_result",
          "data": {
            "text/plain": [
              "       Date     Open     High      Low    Close\n",
              "0  04/05/22  1705.86  1708.89  1698.33  1701.18\n",
              "1  04/04/22  1704.64  1706.77  1699.82  1702.93\n",
              "2  04/01/22  1693.67  1701.99  1690.70  1701.31\n",
              "3  03/31/22  1698.80  1701.95  1693.16  1695.24\n",
              "4  03/30/22  1694.84  1702.67  1692.73  1698.40"
            ],
            "text/html": [
              "\n",
              "  <div id=\"df-3a7729a2-5f72-496b-acd5-9fa524b20591\">\n",
              "    <div class=\"colab-df-container\">\n",
              "      <div>\n",
              "<style scoped>\n",
              "    .dataframe tbody tr th:only-of-type {\n",
              "        vertical-align: middle;\n",
              "    }\n",
              "\n",
              "    .dataframe tbody tr th {\n",
              "        vertical-align: top;\n",
              "    }\n",
              "\n",
              "    .dataframe thead th {\n",
              "        text-align: right;\n",
              "    }\n",
              "</style>\n",
              "<table border=\"1\" class=\"dataframe\">\n",
              "  <thead>\n",
              "    <tr style=\"text-align: right;\">\n",
              "      <th></th>\n",
              "      <th>Date</th>\n",
              "      <th>Open</th>\n",
              "      <th>High</th>\n",
              "      <th>Low</th>\n",
              "      <th>Close</th>\n",
              "    </tr>\n",
              "  </thead>\n",
              "  <tbody>\n",
              "    <tr>\n",
              "      <th>0</th>\n",
              "      <td>04/05/22</td>\n",
              "      <td>1705.86</td>\n",
              "      <td>1708.89</td>\n",
              "      <td>1698.33</td>\n",
              "      <td>1701.18</td>\n",
              "    </tr>\n",
              "    <tr>\n",
              "      <th>1</th>\n",
              "      <td>04/04/22</td>\n",
              "      <td>1704.64</td>\n",
              "      <td>1706.77</td>\n",
              "      <td>1699.82</td>\n",
              "      <td>1702.93</td>\n",
              "    </tr>\n",
              "    <tr>\n",
              "      <th>2</th>\n",
              "      <td>04/01/22</td>\n",
              "      <td>1693.67</td>\n",
              "      <td>1701.99</td>\n",
              "      <td>1690.70</td>\n",
              "      <td>1701.31</td>\n",
              "    </tr>\n",
              "    <tr>\n",
              "      <th>3</th>\n",
              "      <td>03/31/22</td>\n",
              "      <td>1698.80</td>\n",
              "      <td>1701.95</td>\n",
              "      <td>1693.16</td>\n",
              "      <td>1695.24</td>\n",
              "    </tr>\n",
              "    <tr>\n",
              "      <th>4</th>\n",
              "      <td>03/30/22</td>\n",
              "      <td>1694.84</td>\n",
              "      <td>1702.67</td>\n",
              "      <td>1692.73</td>\n",
              "      <td>1698.40</td>\n",
              "    </tr>\n",
              "  </tbody>\n",
              "</table>\n",
              "</div>\n",
              "      <button class=\"colab-df-convert\" onclick=\"convertToInteractive('df-3a7729a2-5f72-496b-acd5-9fa524b20591')\"\n",
              "              title=\"Convert this dataframe to an interactive table.\"\n",
              "              style=\"display:none;\">\n",
              "        \n",
              "  <svg xmlns=\"http://www.w3.org/2000/svg\" height=\"24px\"viewBox=\"0 0 24 24\"\n",
              "       width=\"24px\">\n",
              "    <path d=\"M0 0h24v24H0V0z\" fill=\"none\"/>\n",
              "    <path d=\"M18.56 5.44l.94 2.06.94-2.06 2.06-.94-2.06-.94-.94-2.06-.94 2.06-2.06.94zm-11 1L8.5 8.5l.94-2.06 2.06-.94-2.06-.94L8.5 2.5l-.94 2.06-2.06.94zm10 10l.94 2.06.94-2.06 2.06-.94-2.06-.94-.94-2.06-.94 2.06-2.06.94z\"/><path d=\"M17.41 7.96l-1.37-1.37c-.4-.4-.92-.59-1.43-.59-.52 0-1.04.2-1.43.59L10.3 9.45l-7.72 7.72c-.78.78-.78 2.05 0 2.83L4 21.41c.39.39.9.59 1.41.59.51 0 1.02-.2 1.41-.59l7.78-7.78 2.81-2.81c.8-.78.8-2.07 0-2.86zM5.41 20L4 18.59l7.72-7.72 1.47 1.35L5.41 20z\"/>\n",
              "  </svg>\n",
              "      </button>\n",
              "      \n",
              "  <style>\n",
              "    .colab-df-container {\n",
              "      display:flex;\n",
              "      flex-wrap:wrap;\n",
              "      gap: 12px;\n",
              "    }\n",
              "\n",
              "    .colab-df-convert {\n",
              "      background-color: #E8F0FE;\n",
              "      border: none;\n",
              "      border-radius: 50%;\n",
              "      cursor: pointer;\n",
              "      display: none;\n",
              "      fill: #1967D2;\n",
              "      height: 32px;\n",
              "      padding: 0 0 0 0;\n",
              "      width: 32px;\n",
              "    }\n",
              "\n",
              "    .colab-df-convert:hover {\n",
              "      background-color: #E2EBFA;\n",
              "      box-shadow: 0px 1px 2px rgba(60, 64, 67, 0.3), 0px 1px 3px 1px rgba(60, 64, 67, 0.15);\n",
              "      fill: #174EA6;\n",
              "    }\n",
              "\n",
              "    [theme=dark] .colab-df-convert {\n",
              "      background-color: #3B4455;\n",
              "      fill: #D2E3FC;\n",
              "    }\n",
              "\n",
              "    [theme=dark] .colab-df-convert:hover {\n",
              "      background-color: #434B5C;\n",
              "      box-shadow: 0px 1px 3px 1px rgba(0, 0, 0, 0.15);\n",
              "      filter: drop-shadow(0px 1px 2px rgba(0, 0, 0, 0.3));\n",
              "      fill: #FFFFFF;\n",
              "    }\n",
              "  </style>\n",
              "\n",
              "      <script>\n",
              "        const buttonEl =\n",
              "          document.querySelector('#df-3a7729a2-5f72-496b-acd5-9fa524b20591 button.colab-df-convert');\n",
              "        buttonEl.style.display =\n",
              "          google.colab.kernel.accessAllowed ? 'block' : 'none';\n",
              "\n",
              "        async function convertToInteractive(key) {\n",
              "          const element = document.querySelector('#df-3a7729a2-5f72-496b-acd5-9fa524b20591');\n",
              "          const dataTable =\n",
              "            await google.colab.kernel.invokeFunction('convertToInteractive',\n",
              "                                                     [key], {});\n",
              "          if (!dataTable) return;\n",
              "\n",
              "          const docLinkHtml = 'Like what you see? Visit the ' +\n",
              "            '<a target=\"_blank\" href=https://colab.research.google.com/notebooks/data_table.ipynb>data table notebook</a>'\n",
              "            + ' to learn more about interactive tables.';\n",
              "          element.innerHTML = '';\n",
              "          dataTable['output_type'] = 'display_data';\n",
              "          await google.colab.output.renderOutput(dataTable, element);\n",
              "          const docLink = document.createElement('div');\n",
              "          docLink.innerHTML = docLinkHtml;\n",
              "          element.appendChild(docLink);\n",
              "        }\n",
              "      </script>\n",
              "    </div>\n",
              "  </div>\n",
              "  "
            ]
          },
          "metadata": {},
          "execution_count": 40
        }
      ]
    },
    {
      "cell_type": "code",
      "source": [
        "dfPS.columns = ['Date','Open', 'High', 'Low', 'Close']\n",
        "#df.index.name = \"Date\""
      ],
      "metadata": {
        "id": "7ISbCuPV8THF"
      },
      "execution_count": null,
      "outputs": []
    },
    {
      "cell_type": "code",
      "source": [
        "dfPS.isnull().values.any()"
      ],
      "metadata": {
        "colab": {
          "base_uri": "https://localhost:8080/"
        },
        "id": "ksQgqUjwybMt",
        "outputId": "eded7735-4222-49d8-c93a-1322e57005aa"
      },
      "execution_count": null,
      "outputs": [
        {
          "output_type": "execute_result",
          "data": {
            "text/plain": [
              "False"
            ]
          },
          "metadata": {},
          "execution_count": 42
        }
      ]
    },
    {
      "cell_type": "code",
      "source": [
        "#Plot the time series graph\n",
        "plt.plot(dfPS[\"Open\"],'g')\n",
        "plt.ylabel('price')\n",
        "plt.xlabel('Days')\n",
        "plt.suptitle('PSEi')"
      ],
      "metadata": {
        "colab": {
          "base_uri": "https://localhost:8080/",
          "height": 326
        },
        "id": "FVuLbmFdnsNS",
        "outputId": "341f81a3-3006-40a2-90cd-ffabed3e1c48"
      },
      "execution_count": null,
      "outputs": [
        {
          "output_type": "execute_result",
          "data": {
            "text/plain": [
              "Text(0.5, 0.98, 'PSEi')"
            ]
          },
          "metadata": {},
          "execution_count": 43
        },
        {
          "output_type": "display_data",
          "data": {
            "text/plain": [
              "<Figure size 432x288 with 1 Axes>"
            ],
            "image/png": "[encoded data removed]"
          },
          "metadata": {
            "needs_background": "light"
          }
        }
      ]
    },
    {
      "cell_type": "code",
      "source": [
        "testPS = dfPS.tail(30)\n",
        "trainPS = dfPS.iloc[:-30]"
      ],
      "metadata": {
        "id": "NMaMKXvsya93"
      },
      "execution_count": null,
      "outputs": []
    },
    {
      "cell_type": "code",
      "source": [
        "trainPS.info()"
      ],
      "metadata": {
        "colab": {
          "base_uri": "https://localhost:8080/"
        },
        "id": "Jjc-Mw0h2j-j",
        "outputId": "59bfb67a-67f3-4169-c51a-6feaa768df9e"
      },
      "execution_count": null,
      "outputs": [
        {
          "output_type": "stream",
          "name": "stdout",
          "text": [
            "<class 'pandas.core.frame.DataFrame'>\n",
            "RangeIndex: 1249 entries, 0 to 1248\n",
            "Data columns (total 5 columns):\n",
            " #   Column  Non-Null Count  Dtype  \n",
            "---  ------  --------------  -----  \n",
            " 0   Date    1249 non-null   object \n",
            " 1   Open    1249 non-null   float64\n",
            " 2   High    1249 non-null   float64\n",
            " 3   Low     1249 non-null   float64\n",
            " 4   Close   1249 non-null   float64\n",
            "dtypes: float64(4), object(1)\n",
            "memory usage: 48.9+ KB\n"
          ]
        }
      ]
    },
    {
      "cell_type": "code",
      "source": [
        "trainPS.shape"
      ],
      "metadata": {
        "colab": {
          "base_uri": "https://localhost:8080/"
        },
        "id": "TNQnHM002RQZ",
        "outputId": "fb971e94-8e31-425e-fdcf-c9d4452d1555"
      },
      "execution_count": null,
      "outputs": [
        {
          "output_type": "execute_result",
          "data": {
            "text/plain": [
              "(1249, 5)"
            ]
          },
          "metadata": {},
          "execution_count": 46
        }
      ]
    },
    {
      "cell_type": "code",
      "source": [
        "#taking open price from data in 2d array , if we will do train.loc[:, 'open'].values it gives one d array which wont\n",
        "#be considered in scaling\n",
        "train_open= trainPS.iloc[:, 1:2].values\n",
        "train_open"
      ],
      "metadata": {
        "colab": {
          "base_uri": "https://localhost:8080/"
        },
        "id": "fDU-4r3JzZoh",
        "outputId": "bcae566d-5607-491c-dab2-7dae7e9dc733"
      },
      "execution_count": null,
      "outputs": [
        {
          "output_type": "execute_result",
          "data": {
            "text/plain": [
              "array([[1705.86],\n",
              "       [1704.64],\n",
              "       [1693.67],\n",
              "       ...,\n",
              "       [1569.98],\n",
              "       [1567.9 ],\n",
              "       [1578.38]])"
            ]
          },
          "metadata": {},
          "execution_count": 47
        }
      ]
    },
    {
      "cell_type": "code",
      "source": [
        "train_open_scaled= ss.fit_transform(train_open)\n",
        "train_open_scaled"
      ],
      "metadata": {
        "colab": {
          "base_uri": "https://localhost:8080/"
        },
        "id": "xfYpB5aGzxeE",
        "outputId": "f5c760a9-2c80-42d6-b8f9-5833253dc609"
      },
      "execution_count": null,
      "outputs": [
        {
          "output_type": "execute_result",
          "data": {
            "text/plain": [
              "array([[0.83325043],\n",
              "       [0.83177026],\n",
              "       [0.81846087],\n",
              "       ...,\n",
              "       [0.66839353],\n",
              "       [0.66586996],\n",
              "       [0.67858486]])"
            ]
          },
          "metadata": {},
          "execution_count": 48
        }
      ]
    },
    {
      "cell_type": "code",
      "source": [
        "xtrainPS, ytrainPS = feature(train_open_scaled)"
      ],
      "metadata": {
        "id": "L2fy0R0_0AFy"
      },
      "execution_count": null,
      "outputs": []
    },
    {
      "cell_type": "code",
      "execution_count": null,
      "metadata": {
        "id": "5xv3cBMQ0AFy"
      },
      "outputs": [],
      "source": [
        "#Reshaping the train data to make it as input for LTSM layer input_shape(batchzise,timesteps,input_dim)\n",
        "xtrainPS= np.reshape(xtrainPS,(xtrainPS.shape[0],xtrainPS.shape[1],1))"
      ]
    },
    {
      "cell_type": "code",
      "source": [
        "#fitting the network\n",
        "regression.fit(xtrainPS,ytrainPS,batch_size=30,epochs=100)"
      ],
      "metadata": {
        "colab": {
          "base_uri": "https://localhost:8080/"
        },
        "id": "CKpPO74F0UGL",
        "outputId": "f86d9f50-d00f-45b4-a7e8-cf9872dc96c5"
      },
      "execution_count": null,
      "outputs": [
        {
          "output_type": "stream",
          "name": "stdout",
          "text": [
            "Epoch 1/100\n",
            "40/40 [==============================] - 10s 238ms/step - loss: 9.3168e-04\n",
            "Epoch 2/100\n",
            "40/40 [==============================] - 7s 173ms/step - loss: 8.4656e-04\n",
            "Epoch 3/100\n",
            "40/40 [==============================] - 7s 173ms/step - loss: 7.4016e-04\n",
            "Epoch 4/100\n",
            "40/40 [==============================] - 7s 175ms/step - loss: 7.2375e-04\n",
            "Epoch 5/100\n",
            "40/40 [==============================] - 7s 171ms/step - loss: 7.0355e-04\n",
            "Epoch 6/100\n",
            "40/40 [==============================] - 7s 170ms/step - loss: 8.3189e-04\n",
            "Epoch 7/100\n",
            "40/40 [==============================] - 7s 171ms/step - loss: 8.3453e-04\n",
            "Epoch 8/100\n",
            "40/40 [==============================] - 7s 173ms/step - loss: 7.0972e-04\n",
            "Epoch 9/100\n",
            "40/40 [==============================] - 7s 169ms/step - loss: 7.5636e-04\n",
            "Epoch 10/100\n",
            "40/40 [==============================] - 7s 171ms/step - loss: 6.7631e-04\n",
            "Epoch 11/100\n",
            "40/40 [==============================] - 7s 172ms/step - loss: 6.4746e-04\n",
            "Epoch 12/100\n",
            "40/40 [==============================] - 7s 171ms/step - loss: 6.7048e-04\n",
            "Epoch 13/100\n",
            "40/40 [==============================] - 7s 171ms/step - loss: 6.8620e-04\n",
            "Epoch 14/100\n",
            "40/40 [==============================] - 7s 172ms/step - loss: 6.6146e-04\n",
            "Epoch 15/100\n",
            "40/40 [==============================] - 7s 176ms/step - loss: 7.5925e-04\n",
            "Epoch 16/100\n",
            "40/40 [==============================] - 8s 193ms/step - loss: 6.8475e-04\n",
            "Epoch 17/100\n",
            "40/40 [==============================] - 7s 179ms/step - loss: 8.2655e-04\n",
            "Epoch 18/100\n",
            "40/40 [==============================] - 7s 174ms/step - loss: 7.4387e-04\n",
            "Epoch 19/100\n",
            "40/40 [==============================] - 7s 184ms/step - loss: 6.5037e-04\n",
            "Epoch 20/100\n",
            "40/40 [==============================] - 7s 176ms/step - loss: 6.4084e-04\n",
            "Epoch 21/100\n",
            "40/40 [==============================] - 7s 169ms/step - loss: 5.7439e-04\n",
            "Epoch 22/100\n",
            "40/40 [==============================] - 7s 171ms/step - loss: 7.2821e-04\n",
            "Epoch 23/100\n",
            "40/40 [==============================] - 7s 177ms/step - loss: 6.7769e-04\n",
            "Epoch 24/100\n",
            "40/40 [==============================] - 7s 169ms/step - loss: 6.0412e-04\n",
            "Epoch 25/100\n",
            "40/40 [==============================] - 7s 172ms/step - loss: 7.1022e-04\n",
            "Epoch 26/100\n",
            "40/40 [==============================] - 7s 171ms/step - loss: 5.8114e-04\n",
            "Epoch 27/100\n",
            "40/40 [==============================] - 7s 175ms/step - loss: 6.6675e-04\n",
            "Epoch 28/100\n",
            "40/40 [==============================] - 7s 173ms/step - loss: 4.9356e-04\n",
            "Epoch 29/100\n",
            "40/40 [==============================] - 7s 177ms/step - loss: 6.4025e-04\n",
            "Epoch 30/100\n",
            "40/40 [==============================] - 7s 174ms/step - loss: 5.8966e-04\n",
            "Epoch 31/100\n",
            "40/40 [==============================] - 8s 192ms/step - loss: 6.0403e-04\n",
            "Epoch 32/100\n",
            "40/40 [==============================] - 7s 177ms/step - loss: 6.0537e-04\n",
            "Epoch 33/100\n",
            "40/40 [==============================] - 7s 173ms/step - loss: 5.1002e-04\n",
            "Epoch 34/100\n",
            "40/40 [==============================] - 7s 173ms/step - loss: 6.3087e-04\n",
            "Epoch 35/100\n",
            "40/40 [==============================] - 7s 175ms/step - loss: 5.3766e-04\n",
            "Epoch 36/100\n",
            "40/40 [==============================] - 7s 179ms/step - loss: 6.6392e-04\n",
            "Epoch 37/100\n",
            "40/40 [==============================] - 7s 174ms/step - loss: 6.2209e-04\n",
            "Epoch 38/100\n",
            "40/40 [==============================] - 7s 184ms/step - loss: 5.7533e-04\n",
            "Epoch 39/100\n",
            "40/40 [==============================] - 7s 176ms/step - loss: 5.7878e-04\n",
            "Epoch 40/100\n",
            "40/40 [==============================] - 7s 179ms/step - loss: 5.6237e-04\n",
            "Epoch 41/100\n",
            "40/40 [==============================] - 7s 174ms/step - loss: 8.3679e-04\n",
            "Epoch 42/100\n",
            "40/40 [==============================] - 7s 175ms/step - loss: 5.3881e-04\n",
            "Epoch 43/100\n",
            "40/40 [==============================] - 7s 169ms/step - loss: 5.7057e-04\n",
            "Epoch 44/100\n",
            "40/40 [==============================] - 7s 170ms/step - loss: 8.1586e-04\n",
            "Epoch 45/100\n",
            "40/40 [==============================] - 7s 176ms/step - loss: 5.8954e-04\n",
            "Epoch 46/100\n",
            "40/40 [==============================] - 9s 211ms/step - loss: 4.8490e-04\n",
            "Epoch 47/100\n",
            "40/40 [==============================] - 7s 170ms/step - loss: 4.7089e-04\n",
            "Epoch 48/100\n",
            "40/40 [==============================] - 7s 170ms/step - loss: 5.5735e-04\n",
            "Epoch 49/100\n",
            "40/40 [==============================] - 7s 172ms/step - loss: 4.9746e-04\n",
            "Epoch 50/100\n",
            "40/40 [==============================] - 7s 167ms/step - loss: 8.0141e-04\n",
            "Epoch 51/100\n",
            "40/40 [==============================] - 7s 169ms/step - loss: 5.7801e-04\n",
            "Epoch 52/100\n",
            "40/40 [==============================] - 7s 169ms/step - loss: 6.8127e-04\n",
            "Epoch 53/100\n",
            "40/40 [==============================] - 7s 169ms/step - loss: 5.9967e-04\n",
            "Epoch 54/100\n",
            "40/40 [==============================] - 7s 170ms/step - loss: 5.0243e-04\n",
            "Epoch 55/100\n",
            "40/40 [==============================] - 7s 169ms/step - loss: 6.1635e-04\n",
            "Epoch 56/100\n",
            "40/40 [==============================] - 7s 167ms/step - loss: 5.8522e-04\n",
            "Epoch 57/100\n",
            "40/40 [==============================] - 7s 170ms/step - loss: 5.6534e-04\n",
            "Epoch 58/100\n",
            "40/40 [==============================] - 7s 172ms/step - loss: 5.4789e-04\n",
            "Epoch 59/100\n",
            "40/40 [==============================] - 7s 168ms/step - loss: 4.6034e-04\n",
            "Epoch 60/100\n",
            "40/40 [==============================] - 7s 169ms/step - loss: 4.7971e-04\n",
            "Epoch 61/100\n",
            "40/40 [==============================] - 7s 172ms/step - loss: 4.6962e-04\n",
            "Epoch 62/100\n",
            "40/40 [==============================] - 7s 175ms/step - loss: 7.5657e-04\n",
            "Epoch 63/100\n",
            "40/40 [==============================] - 7s 171ms/step - loss: 6.4602e-04\n",
            "Epoch 64/100\n",
            "40/40 [==============================] - 7s 174ms/step - loss: 5.2882e-04\n",
            "Epoch 65/100\n",
            "40/40 [==============================] - 7s 171ms/step - loss: 4.5011e-04\n",
            "Epoch 66/100\n",
            "40/40 [==============================] - 7s 170ms/step - loss: 4.9281e-04\n",
            "Epoch 67/100\n",
            "40/40 [==============================] - 7s 170ms/step - loss: 5.5173e-04\n",
            "Epoch 68/100\n",
            "40/40 [==============================] - 7s 173ms/step - loss: 4.7635e-04\n",
            "Epoch 69/100\n",
            "40/40 [==============================] - 8s 193ms/step - loss: 4.4926e-04\n",
            "Epoch 70/100\n",
            "40/40 [==============================] - 9s 226ms/step - loss: 5.8958e-04\n",
            "Epoch 71/100\n",
            "40/40 [==============================] - 7s 182ms/step - loss: 4.8315e-04\n",
            "Epoch 72/100\n",
            "40/40 [==============================] - 7s 167ms/step - loss: 7.2876e-04\n",
            "Epoch 73/100\n",
            "40/40 [==============================] - 7s 163ms/step - loss: 6.2140e-04\n",
            "Epoch 74/100\n",
            "40/40 [==============================] - 7s 164ms/step - loss: 6.1695e-04\n",
            "Epoch 75/100\n",
            "40/40 [==============================] - 7s 163ms/step - loss: 5.7525e-04\n",
            "Epoch 76/100\n",
            "40/40 [==============================] - 6s 161ms/step - loss: 5.2108e-04\n",
            "Epoch 77/100\n",
            "40/40 [==============================] - 7s 163ms/step - loss: 5.6181e-04\n",
            "Epoch 78/100\n",
            "40/40 [==============================] - 7s 164ms/step - loss: 6.0435e-04\n",
            "Epoch 79/100\n",
            "40/40 [==============================] - 7s 164ms/step - loss: 5.7980e-04\n",
            "Epoch 80/100\n",
            "40/40 [==============================] - 7s 166ms/step - loss: 6.4019e-04\n",
            "Epoch 81/100\n",
            "40/40 [==============================] - 7s 164ms/step - loss: 4.9639e-04\n",
            "Epoch 82/100\n",
            "40/40 [==============================] - 7s 164ms/step - loss: 5.2611e-04\n",
            "Epoch 83/100\n",
            "40/40 [==============================] - 7s 165ms/step - loss: 5.5880e-04\n",
            "Epoch 84/100\n",
            "40/40 [==============================] - 7s 165ms/step - loss: 4.8556e-04\n",
            "Epoch 85/100\n",
            "40/40 [==============================] - 7s 165ms/step - loss: 4.4871e-04\n",
            "Epoch 86/100\n",
            "40/40 [==============================] - 7s 166ms/step - loss: 4.4158e-04\n",
            "Epoch 87/100\n",
            "40/40 [==============================] - 7s 165ms/step - loss: 5.1872e-04\n",
            "Epoch 88/100\n",
            "40/40 [==============================] - 7s 165ms/step - loss: 4.7458e-04\n",
            "Epoch 89/100\n",
            "40/40 [==============================] - 7s 164ms/step - loss: 5.4186e-04\n",
            "Epoch 90/100\n",
            "40/40 [==============================] - 7s 163ms/step - loss: 6.1175e-04\n",
            "Epoch 91/100\n",
            "40/40 [==============================] - 6s 162ms/step - loss: 7.5136e-04\n",
            "Epoch 92/100\n",
            "40/40 [==============================] - 7s 164ms/step - loss: 5.9291e-04\n",
            "Epoch 93/100\n",
            "40/40 [==============================] - 7s 163ms/step - loss: 4.3108e-04\n",
            "Epoch 94/100\n",
            "40/40 [==============================] - 6s 162ms/step - loss: 5.3874e-04\n",
            "Epoch 95/100\n",
            "40/40 [==============================] - 7s 163ms/step - loss: 4.9907e-04\n",
            "Epoch 96/100\n",
            "40/40 [==============================] - 7s 162ms/step - loss: 4.5359e-04\n",
            "Epoch 97/100\n",
            "40/40 [==============================] - 8s 206ms/step - loss: 5.1532e-04\n",
            "Epoch 98/100\n",
            "40/40 [==============================] - 7s 164ms/step - loss: 4.7941e-04\n",
            "Epoch 99/100\n",
            "40/40 [==============================] - 6s 162ms/step - loss: 4.8391e-04\n",
            "Epoch 100/100\n",
            "40/40 [==============================] - 7s 163ms/step - loss: 5.8019e-04\n"
          ]
        },
        {
          "output_type": "execute_result",
          "data": {
            "text/plain": [
              "<keras.callbacks.History at 0x7f1f6adc2d90>"
            ]
          },
          "metadata": {},
          "execution_count": 51
        }
      ]
    },
    {
      "cell_type": "markdown",
      "source": [
        "Predicting for test data"
      ],
      "metadata": {
        "id": "J-tNdOAdie-m"
      }
    },
    {
      "cell_type": "code",
      "source": [
        "test_input_PS, test_open_PS = concate(trainPS,testPS,ss)"
      ],
      "metadata": {
        "id": "geuVesbY37ON"
      },
      "execution_count": null,
      "outputs": []
    },
    {
      "cell_type": "code",
      "execution_count": null,
      "metadata": {
        "id": "qrCFDikI4nat"
      },
      "outputs": [],
      "source": [
        "xtest= []\n",
        "for i in range(70,100):\n",
        "    xtest.append(test_input_PS[i-70:i,0]) #creating input for lstm prediction"
      ]
    },
    {
      "cell_type": "code",
      "execution_count": null,
      "metadata": {
        "id": "UlFo8z6K4nat"
      },
      "outputs": [],
      "source": [
        "xtest= np.array(xtest)"
      ]
    },
    {
      "cell_type": "code",
      "execution_count": null,
      "metadata": {
        "id": "_vKvOYWZ4nat"
      },
      "outputs": [],
      "source": [
        "xtest= np.reshape(xtest,(xtest.shape[0],xtest.shape[1],1))\n",
        "predicted_value= regression.predict(xtest)\n"
      ]
    },
    {
      "cell_type": "code",
      "execution_count": null,
      "metadata": {
        "id": "IGAYx2844nat"
      },
      "outputs": [],
      "source": [
        "predicted_value= ss.inverse_transform(predicted_value)"
      ]
    },
    {
      "cell_type": "code",
      "source": [
        "plt.figure(figsize=(30,15))\n",
        "plt.plot(test_open_PS,'red',label='Real Prices')\n",
        "plt.plot(predicted_value,'blue',label='Predicted Prices')\n",
        "plt.xlabel('Time')\n",
        "plt.ylabel('Prices')\n",
        "plt.title('Real vs Predicted Prices')\n",
        "plt.legend(loc='best', fontsize=20)"
      ],
      "metadata": {
        "colab": {
          "base_uri": "https://localhost:8080/",
          "height": 625
        },
        "id": "ZVWRvQcz9Q7O",
        "outputId": "3ba9aa15-a4bb-41b4-ceb7-ff00c01e5ef8"
      },
      "execution_count": null,
      "outputs": [
        {
          "output_type": "execute_result",
          "data": {
            "text/plain": [
              "<matplotlib.legend.Legend at 0x7f1f6ad07e10>"
            ]
          },
          "metadata": {},
          "execution_count": 57
        },
        {
          "output_type": "display_data",
          "data": {
            "text/plain": [
              "<Figure size 2160x1080 with 1 Axes>"
            ],
            "image/png": "[encoded data removed]"
          },
          "metadata": {
            "needs_background": "light"
          }
        }
      ]
    },
    {
      "cell_type": "markdown",
      "source": [
        "#SETi Data\n"
      ],
      "metadata": {
        "id": "h-VUSRDuhJQw"
      }
    },
    {
      "cell_type": "code",
      "source": [
        "#Importing the data\n",
        "dfST= pd.read_csv('/content/drive/MyDrive/emergent-market-data/SETi.csv')\n",
        "dfST.shape"
      ],
      "metadata": {
        "colab": {
          "base_uri": "https://localhost:8080/"
        },
        "outputId": "0354bffa-ae7d-4a04-ac57-ef8b6b939db8",
        "id": "lVjUhpqQhMZA"
      },
      "execution_count": null,
      "outputs": [
        {
          "output_type": "execute_result",
          "data": {
            "text/plain": [
              "(1276, 5)"
            ]
          },
          "metadata": {},
          "execution_count": 103
        }
      ]
    },
    {
      "cell_type": "code",
      "source": [
        "dfST.info()"
      ],
      "metadata": {
        "colab": {
          "base_uri": "https://localhost:8080/"
        },
        "outputId": "f7afe0c9-84d7-4059-a142-6e43261c18fa",
        "id": "2eb7nxfDhMZB"
      },
      "execution_count": null,
      "outputs": [
        {
          "output_type": "stream",
          "name": "stdout",
          "text": [
            "<class 'pandas.core.frame.DataFrame'>\n",
            "RangeIndex: 1276 entries, 0 to 1275\n",
            "Data columns (total 5 columns):\n",
            " #   Column  Non-Null Count  Dtype  \n",
            "---  ------  --------------  -----  \n",
            " 0   Date    1276 non-null   object \n",
            " 1    Open   1276 non-null   float64\n",
            " 2    High   1276 non-null   float64\n",
            " 3    Low    1276 non-null   float64\n",
            " 4    Close  1276 non-null   float64\n",
            "dtypes: float64(4), object(1)\n",
            "memory usage: 50.0+ KB\n"
          ]
        }
      ]
    },
    {
      "cell_type": "code",
      "source": [
        "dfST.head()"
      ],
      "metadata": {
        "colab": {
          "base_uri": "https://localhost:8080/",
          "height": 206
        },
        "outputId": "5882f3af-eff1-4d12-9bc2-2c0b10eb0d7d",
        "id": "FbSOB45PhMZB"
      },
      "execution_count": null,
      "outputs": [
        {
          "output_type": "execute_result",
          "data": {
            "text/plain": [
              "       Date     Open     High      Low    Close\n",
              "0  04/06/22  7129.27  7130.92  7080.49  7109.26\n",
              "1  04/05/22  7158.57  7158.57  7106.49  7156.07\n",
              "2  04/04/22  7124.25  7163.21  7124.25  7163.21\n",
              "3  04/01/22  7160.48  7162.44  7103.47  7152.88\n",
              "4  03/31/22  7173.69  7203.47  7156.49  7203.47"
            ],
            "text/html": [
              "\n",
              "  <div id=\"df-c727dc64-a9b4-4fff-892f-5a7e266af2a0\">\n",
              "    <div class=\"colab-df-container\">\n",
              "      <div>\n",
              "<style scoped>\n",
              "    .dataframe tbody tr th:only-of-type {\n",
              "        vertical-align: middle;\n",
              "    }\n",
              "\n",
              "    .dataframe tbody tr th {\n",
              "        vertical-align: top;\n",
              "    }\n",
              "\n",
              "    .dataframe thead th {\n",
              "        text-align: right;\n",
              "    }\n",
              "</style>\n",
              "<table border=\"1\" class=\"dataframe\">\n",
              "  <thead>\n",
              "    <tr style=\"text-align: right;\">\n",
              "      <th></th>\n",
              "      <th>Date</th>\n",
              "      <th>Open</th>\n",
              "      <th>High</th>\n",
              "      <th>Low</th>\n",
              "      <th>Close</th>\n",
              "    </tr>\n",
              "  </thead>\n",
              "  <tbody>\n",
              "    <tr>\n",
              "      <th>0</th>\n",
              "      <td>04/06/22</td>\n",
              "      <td>7129.27</td>\n",
              "      <td>7130.92</td>\n",
              "      <td>7080.49</td>\n",
              "      <td>7109.26</td>\n",
              "    </tr>\n",
              "    <tr>\n",
              "      <th>1</th>\n",
              "      <td>04/05/22</td>\n",
              "      <td>7158.57</td>\n",
              "      <td>7158.57</td>\n",
              "      <td>7106.49</td>\n",
              "      <td>7156.07</td>\n",
              "    </tr>\n",
              "    <tr>\n",
              "      <th>2</th>\n",
              "      <td>04/04/22</td>\n",
              "      <td>7124.25</td>\n",
              "      <td>7163.21</td>\n",
              "      <td>7124.25</td>\n",
              "      <td>7163.21</td>\n",
              "    </tr>\n",
              "    <tr>\n",
              "      <th>3</th>\n",
              "      <td>04/01/22</td>\n",
              "      <td>7160.48</td>\n",
              "      <td>7162.44</td>\n",
              "      <td>7103.47</td>\n",
              "      <td>7152.88</td>\n",
              "    </tr>\n",
              "    <tr>\n",
              "      <th>4</th>\n",
              "      <td>03/31/22</td>\n",
              "      <td>7173.69</td>\n",
              "      <td>7203.47</td>\n",
              "      <td>7156.49</td>\n",
              "      <td>7203.47</td>\n",
              "    </tr>\n",
              "  </tbody>\n",
              "</table>\n",
              "</div>\n",
              "      <button class=\"colab-df-convert\" onclick=\"convertToInteractive('df-c727dc64-a9b4-4fff-892f-5a7e266af2a0')\"\n",
              "              title=\"Convert this dataframe to an interactive table.\"\n",
              "              style=\"display:none;\">\n",
              "        \n",
              "  <svg xmlns=\"http://www.w3.org/2000/svg\" height=\"24px\"viewBox=\"0 0 24 24\"\n",
              "       width=\"24px\">\n",
              "    <path d=\"M0 0h24v24H0V0z\" fill=\"none\"/>\n",
              "    <path d=\"M18.56 5.44l.94 2.06.94-2.06 2.06-.94-2.06-.94-.94-2.06-.94 2.06-2.06.94zm-11 1L8.5 8.5l.94-2.06 2.06-.94-2.06-.94L8.5 2.5l-.94 2.06-2.06.94zm10 10l.94 2.06.94-2.06 2.06-.94-2.06-.94-.94-2.06-.94 2.06-2.06.94z\"/><path d=\"M17.41 7.96l-1.37-1.37c-.4-.4-.92-.59-1.43-.59-.52 0-1.04.2-1.43.59L10.3 9.45l-7.72 7.72c-.78.78-.78 2.05 0 2.83L4 21.41c.39.39.9.59 1.41.59.51 0 1.02-.2 1.41-.59l7.78-7.78 2.81-2.81c.8-.78.8-2.07 0-2.86zM5.41 20L4 18.59l7.72-7.72 1.47 1.35L5.41 20z\"/>\n",
              "  </svg>\n",
              "      </button>\n",
              "      \n",
              "  <style>\n",
              "    .colab-df-container {\n",
              "      display:flex;\n",
              "      flex-wrap:wrap;\n",
              "      gap: 12px;\n",
              "    }\n",
              "\n",
              "    .colab-df-convert {\n",
              "      background-color: #E8F0FE;\n",
              "      border: none;\n",
              "      border-radius: 50%;\n",
              "      cursor: pointer;\n",
              "      display: none;\n",
              "      fill: #1967D2;\n",
              "      height: 32px;\n",
              "      padding: 0 0 0 0;\n",
              "      width: 32px;\n",
              "    }\n",
              "\n",
              "    .colab-df-convert:hover {\n",
              "      background-color: #E2EBFA;\n",
              "      box-shadow: 0px 1px 2px rgba(60, 64, 67, 0.3), 0px 1px 3px 1px rgba(60, 64, 67, 0.15);\n",
              "      fill: #174EA6;\n",
              "    }\n",
              "\n",
              "    [theme=dark] .colab-df-convert {\n",
              "      background-color: #3B4455;\n",
              "      fill: #D2E3FC;\n",
              "    }\n",
              "\n",
              "    [theme=dark] .colab-df-convert:hover {\n",
              "      background-color: #434B5C;\n",
              "      box-shadow: 0px 1px 3px 1px rgba(0, 0, 0, 0.15);\n",
              "      filter: drop-shadow(0px 1px 2px rgba(0, 0, 0, 0.3));\n",
              "      fill: #FFFFFF;\n",
              "    }\n",
              "  </style>\n",
              "\n",
              "      <script>\n",
              "        const buttonEl =\n",
              "          document.querySelector('#df-c727dc64-a9b4-4fff-892f-5a7e266af2a0 button.colab-df-convert');\n",
              "        buttonEl.style.display =\n",
              "          google.colab.kernel.accessAllowed ? 'block' : 'none';\n",
              "\n",
              "        async function convertToInteractive(key) {\n",
              "          const element = document.querySelector('#df-c727dc64-a9b4-4fff-892f-5a7e266af2a0');\n",
              "          const dataTable =\n",
              "            await google.colab.kernel.invokeFunction('convertToInteractive',\n",
              "                                                     [key], {});\n",
              "          if (!dataTable) return;\n",
              "\n",
              "          const docLinkHtml = 'Like what you see? Visit the ' +\n",
              "            '<a target=\"_blank\" href=https://colab.research.google.com/notebooks/data_table.ipynb>data table notebook</a>'\n",
              "            + ' to learn more about interactive tables.';\n",
              "          element.innerHTML = '';\n",
              "          dataTable['output_type'] = 'display_data';\n",
              "          await google.colab.output.renderOutput(dataTable, element);\n",
              "          const docLink = document.createElement('div');\n",
              "          docLink.innerHTML = docLinkHtml;\n",
              "          element.appendChild(docLink);\n",
              "        }\n",
              "      </script>\n",
              "    </div>\n",
              "  </div>\n",
              "  "
            ]
          },
          "metadata": {},
          "execution_count": 105
        }
      ]
    },
    {
      "cell_type": "code",
      "source": [
        "dfST.columns = ['Date','Open', 'High', 'Low', 'Close']\n",
        "#df.index.name = \"Date\""
      ],
      "metadata": {
        "id": "NZxEWi3ihMZB"
      },
      "execution_count": null,
      "outputs": []
    },
    {
      "cell_type": "code",
      "source": [
        "dfST.isnull().values.any()"
      ],
      "metadata": {
        "colab": {
          "base_uri": "https://localhost:8080/"
        },
        "outputId": "844ce52b-9fab-4d97-a7c6-c61d466f253b",
        "id": "LBOSuEgXhMZB"
      },
      "execution_count": null,
      "outputs": [
        {
          "output_type": "execute_result",
          "data": {
            "text/plain": [
              "False"
            ]
          },
          "metadata": {},
          "execution_count": 107
        }
      ]
    },
    {
      "cell_type": "code",
      "source": [
        "#Plot the time series graph\n",
        "plt.plot(dfST[\"Open\"],'-y')\n",
        "plt.ylabel('price')\n",
        "plt.xlabel('Days')\n",
        "plt.suptitle('SETi')"
      ],
      "metadata": {
        "colab": {
          "base_uri": "https://localhost:8080/",
          "height": 326
        },
        "id": "FpXkQooGoSBm",
        "outputId": "81534cfc-13a6-4bee-905b-259dc202cbd7"
      },
      "execution_count": null,
      "outputs": [
        {
          "output_type": "execute_result",
          "data": {
            "text/plain": [
              "Text(0.5, 0.98, 'SETi')"
            ]
          },
          "metadata": {},
          "execution_count": 109
        },
        {
          "output_type": "display_data",
          "data": {
            "text/plain": [
              "<Figure size 432x288 with 1 Axes>"
            ],
            "image/png": "[encoded data removed]"
          },
          "metadata": {
            "needs_background": "light"
          }
        }
      ]
    },
    {
      "cell_type": "code",
      "source": [
        "testST = dfST.tail(30)\n",
        "trainST = dfST.iloc[:-30]"
      ],
      "metadata": {
        "id": "lfmbD4zVhMZB"
      },
      "execution_count": null,
      "outputs": []
    },
    {
      "cell_type": "code",
      "source": [
        "trainST.info()"
      ],
      "metadata": {
        "colab": {
          "base_uri": "https://localhost:8080/"
        },
        "outputId": "26e65723-8461-4799-b1ed-2541231cb4e3",
        "id": "diAX5PuShMZB"
      },
      "execution_count": null,
      "outputs": [
        {
          "output_type": "stream",
          "name": "stdout",
          "text": [
            "<class 'pandas.core.frame.DataFrame'>\n",
            "RangeIndex: 1246 entries, 0 to 1245\n",
            "Data columns (total 5 columns):\n",
            " #   Column  Non-Null Count  Dtype  \n",
            "---  ------  --------------  -----  \n",
            " 0   Date    1246 non-null   object \n",
            " 1   Open    1246 non-null   float64\n",
            " 2   High    1246 non-null   float64\n",
            " 3   Low     1246 non-null   float64\n",
            " 4   Close   1246 non-null   float64\n",
            "dtypes: float64(4), object(1)\n",
            "memory usage: 48.8+ KB\n"
          ]
        }
      ]
    },
    {
      "cell_type": "code",
      "source": [
        "trainST.shape"
      ],
      "metadata": {
        "colab": {
          "base_uri": "https://localhost:8080/"
        },
        "outputId": "8f707ca1-0c99-4d58-dda2-7004a92fe2a6",
        "id": "gPeCtDUihMZB"
      },
      "execution_count": null,
      "outputs": [
        {
          "output_type": "execute_result",
          "data": {
            "text/plain": [
              "(1246, 5)"
            ]
          },
          "metadata": {},
          "execution_count": 112
        }
      ]
    },
    {
      "cell_type": "code",
      "source": [
        "#taking open price from data in 2d array , if we will do train.loc[:, 'open'].values it gives one d array which wont\n",
        "#be considered in scaling\n",
        "train_open= trainST.iloc[:, 1:2].values\n",
        "train_open"
      ],
      "metadata": {
        "colab": {
          "base_uri": "https://localhost:8080/"
        },
        "outputId": "e9bead27-fded-4e77-aa64-361acb6e7bda",
        "id": "48dr0zhHhMZB"
      },
      "execution_count": null,
      "outputs": [
        {
          "output_type": "execute_result",
          "data": {
            "text/plain": [
              "array([[7129.27],\n",
              "       [7158.57],\n",
              "       [7124.25],\n",
              "       ...,\n",
              "       [7275.51],\n",
              "       [7284.93],\n",
              "       [7252.54]])"
            ]
          },
          "metadata": {},
          "execution_count": 113
        }
      ]
    },
    {
      "cell_type": "code",
      "source": [
        "train_open_scaled= ss.fit_transform(train_open)\n",
        "train_open_scaled"
      ],
      "metadata": {
        "colab": {
          "base_uri": "https://localhost:8080/"
        },
        "outputId": "55a8b30c-bdfc-417b-e68a-20ad3bff3cd9",
        "id": "QdWQ5IvZhMZC"
      },
      "execution_count": null,
      "outputs": [
        {
          "output_type": "execute_result",
          "data": {
            "text/plain": [
              "array([[0.56089416],\n",
              "       [0.56758646],\n",
              "       [0.55974757],\n",
              "       ...,\n",
              "       [0.59429625],\n",
              "       [0.59644783],\n",
              "       [0.58904976]])"
            ]
          },
          "metadata": {},
          "execution_count": 114
        }
      ]
    },
    {
      "cell_type": "code",
      "source": [
        "xtrainST, ytrainST = feature(train_open_scaled)"
      ],
      "metadata": {
        "id": "2LmJqRE1hMZC"
      },
      "execution_count": null,
      "outputs": []
    },
    {
      "cell_type": "code",
      "execution_count": null,
      "metadata": {
        "id": "9LUVUKwshMZC"
      },
      "outputs": [],
      "source": [
        "#Reshaping the train data to make it as input for LTSM layer input_shape(batchzise,timesteps,input_dim)\n",
        "xtrainST= np.reshape(xtrainST,(xtrainST.shape[0],xtrainST.shape[1],1))"
      ]
    },
    {
      "cell_type": "code",
      "source": [
        "#fitting the network\n",
        "regression.fit(xtrainST,ytrainST,batch_size=30,epochs=100)"
      ],
      "metadata": {
        "colab": {
          "base_uri": "https://localhost:8080/"
        },
        "outputId": "491fb50d-4fd2-4976-f454-5bca01c16f17",
        "id": "mjV8cBEGhMZC"
      },
      "execution_count": null,
      "outputs": [
        {
          "output_type": "stream",
          "name": "stdout",
          "text": [
            "Epoch 1/100\n",
            "40/40 [==============================] - 7s 166ms/step - loss: 5.8254e-04\n",
            "Epoch 2/100\n",
            "40/40 [==============================] - 7s 164ms/step - loss: 4.0394e-04\n",
            "Epoch 3/100\n",
            "40/40 [==============================] - 7s 164ms/step - loss: 4.6409e-04\n",
            "Epoch 4/100\n",
            "40/40 [==============================] - 7s 166ms/step - loss: 4.4812e-04\n",
            "Epoch 5/100\n",
            "40/40 [==============================] - 7s 166ms/step - loss: 4.4028e-04\n",
            "Epoch 6/100\n",
            "40/40 [==============================] - 7s 166ms/step - loss: 5.5297e-04\n",
            "Epoch 7/100\n",
            "40/40 [==============================] - 7s 164ms/step - loss: 4.4864e-04\n",
            "Epoch 8/100\n",
            "40/40 [==============================] - 7s 167ms/step - loss: 4.1876e-04\n",
            "Epoch 9/100\n",
            "40/40 [==============================] - 7s 164ms/step - loss: 4.8197e-04\n",
            "Epoch 10/100\n",
            "40/40 [==============================] - 7s 164ms/step - loss: 5.3891e-04\n",
            "Epoch 11/100\n",
            "40/40 [==============================] - 7s 165ms/step - loss: 4.2011e-04\n",
            "Epoch 12/100\n",
            "40/40 [==============================] - 7s 166ms/step - loss: 4.1391e-04\n",
            "Epoch 13/100\n",
            "40/40 [==============================] - 7s 165ms/step - loss: 4.6084e-04\n",
            "Epoch 14/100\n",
            "40/40 [==============================] - 7s 164ms/step - loss: 5.6014e-04\n",
            "Epoch 15/100\n",
            "40/40 [==============================] - 7s 165ms/step - loss: 5.0714e-04\n",
            "Epoch 16/100\n",
            "40/40 [==============================] - 7s 165ms/step - loss: 4.1715e-04\n",
            "Epoch 17/100\n",
            "40/40 [==============================] - 7s 166ms/step - loss: 5.1191e-04\n",
            "Epoch 18/100\n",
            "40/40 [==============================] - 7s 163ms/step - loss: 4.1770e-04\n",
            "Epoch 19/100\n",
            "40/40 [==============================] - 7s 164ms/step - loss: 4.0422e-04\n",
            "Epoch 20/100\n",
            "40/40 [==============================] - 7s 165ms/step - loss: 4.2201e-04\n",
            "Epoch 21/100\n",
            "40/40 [==============================] - 6s 162ms/step - loss: 4.0362e-04\n",
            "Epoch 22/100\n",
            "40/40 [==============================] - 7s 164ms/step - loss: 4.4291e-04\n",
            "Epoch 23/100\n",
            "40/40 [==============================] - 7s 164ms/step - loss: 4.7288e-04\n",
            "Epoch 24/100\n",
            "40/40 [==============================] - 7s 164ms/step - loss: 4.4608e-04\n",
            "Epoch 25/100\n",
            "40/40 [==============================] - 7s 164ms/step - loss: 4.9712e-04\n",
            "Epoch 26/100\n",
            "40/40 [==============================] - 7s 165ms/step - loss: 4.6427e-04\n",
            "Epoch 27/100\n",
            "40/40 [==============================] - 7s 163ms/step - loss: 4.6087e-04\n",
            "Epoch 28/100\n",
            "40/40 [==============================] - 7s 164ms/step - loss: 4.5953e-04\n",
            "Epoch 29/100\n",
            "40/40 [==============================] - 7s 164ms/step - loss: 4.2063e-04\n",
            "Epoch 30/100\n",
            "40/40 [==============================] - 7s 164ms/step - loss: 4.6531e-04\n",
            "Epoch 31/100\n",
            "40/40 [==============================] - 7s 163ms/step - loss: 4.0895e-04\n",
            "Epoch 32/100\n",
            "40/40 [==============================] - 7s 164ms/step - loss: 4.8113e-04\n",
            "Epoch 33/100\n",
            "40/40 [==============================] - 7s 165ms/step - loss: 4.4079e-04\n",
            "Epoch 34/100\n",
            "40/40 [==============================] - 7s 164ms/step - loss: 4.8410e-04\n",
            "Epoch 35/100\n",
            "40/40 [==============================] - 7s 165ms/step - loss: 4.6041e-04\n",
            "Epoch 36/100\n",
            "40/40 [==============================] - 7s 164ms/step - loss: 4.7924e-04\n",
            "Epoch 37/100\n",
            "40/40 [==============================] - 7s 165ms/step - loss: 4.1215e-04\n",
            "Epoch 38/100\n",
            "40/40 [==============================] - 6s 162ms/step - loss: 4.4797e-04\n",
            "Epoch 39/100\n",
            "40/40 [==============================] - 7s 164ms/step - loss: 4.8970e-04\n",
            "Epoch 40/100\n",
            "40/40 [==============================] - 7s 165ms/step - loss: 4.3520e-04\n",
            "Epoch 41/100\n",
            "40/40 [==============================] - 8s 205ms/step - loss: 4.2480e-04\n",
            "Epoch 42/100\n",
            "40/40 [==============================] - 7s 164ms/step - loss: 3.8928e-04\n",
            "Epoch 43/100\n",
            "40/40 [==============================] - 7s 165ms/step - loss: 4.7136e-04\n",
            "Epoch 44/100\n",
            "40/40 [==============================] - 7s 165ms/step - loss: 4.3788e-04\n",
            "Epoch 45/100\n",
            "40/40 [==============================] - 7s 167ms/step - loss: 4.3583e-04\n",
            "Epoch 46/100\n",
            "40/40 [==============================] - 7s 167ms/step - loss: 4.4509e-04\n",
            "Epoch 47/100\n",
            "40/40 [==============================] - 7s 164ms/step - loss: 4.4323e-04\n",
            "Epoch 48/100\n",
            "40/40 [==============================] - 7s 164ms/step - loss: 4.7065e-04\n",
            "Epoch 49/100\n",
            "40/40 [==============================] - 7s 165ms/step - loss: 4.3756e-04\n",
            "Epoch 50/100\n",
            "40/40 [==============================] - 7s 167ms/step - loss: 4.2703e-04\n",
            "Epoch 51/100\n",
            "40/40 [==============================] - 7s 165ms/step - loss: 4.9218e-04\n",
            "Epoch 52/100\n",
            "40/40 [==============================] - 7s 165ms/step - loss: 4.7307e-04\n",
            "Epoch 53/100\n",
            "40/40 [==============================] - 7s 165ms/step - loss: 4.4379e-04\n",
            "Epoch 54/100\n",
            "40/40 [==============================] - 7s 165ms/step - loss: 4.0907e-04\n",
            "Epoch 55/100\n",
            "40/40 [==============================] - 7s 164ms/step - loss: 4.0977e-04\n",
            "Epoch 56/100\n",
            "40/40 [==============================] - 7s 163ms/step - loss: 3.9949e-04\n",
            "Epoch 57/100\n",
            "40/40 [==============================] - 7s 163ms/step - loss: 5.0178e-04\n",
            "Epoch 58/100\n",
            "40/40 [==============================] - 7s 165ms/step - loss: 4.4282e-04\n",
            "Epoch 59/100\n",
            "40/40 [==============================] - 7s 166ms/step - loss: 4.6508e-04\n",
            "Epoch 60/100\n",
            "40/40 [==============================] - 7s 166ms/step - loss: 4.0932e-04\n",
            "Epoch 61/100\n",
            "40/40 [==============================] - 7s 168ms/step - loss: 4.5794e-04\n",
            "Epoch 62/100\n",
            "40/40 [==============================] - 7s 165ms/step - loss: 3.9742e-04\n",
            "Epoch 63/100\n",
            "40/40 [==============================] - 7s 165ms/step - loss: 4.1374e-04\n",
            "Epoch 64/100\n",
            "40/40 [==============================] - 7s 165ms/step - loss: 4.4447e-04\n",
            "Epoch 65/100\n",
            "40/40 [==============================] - 7s 166ms/step - loss: 4.1781e-04\n",
            "Epoch 66/100\n",
            "40/40 [==============================] - 7s 165ms/step - loss: 4.1968e-04\n",
            "Epoch 67/100\n",
            "40/40 [==============================] - 7s 163ms/step - loss: 4.2541e-04\n",
            "Epoch 68/100\n",
            "40/40 [==============================] - 7s 164ms/step - loss: 5.1447e-04\n",
            "Epoch 69/100\n",
            "40/40 [==============================] - 7s 164ms/step - loss: 4.2196e-04\n",
            "Epoch 70/100\n",
            "40/40 [==============================] - 6s 160ms/step - loss: 4.8789e-04\n",
            "Epoch 71/100\n",
            "40/40 [==============================] - 7s 162ms/step - loss: 3.8747e-04\n",
            "Epoch 72/100\n",
            "40/40 [==============================] - 7s 164ms/step - loss: 3.8490e-04\n",
            "Epoch 73/100\n",
            "40/40 [==============================] - 6s 162ms/step - loss: 4.2507e-04\n",
            "Epoch 74/100\n",
            "40/40 [==============================] - 6s 162ms/step - loss: 3.8821e-04\n",
            "Epoch 75/100\n",
            "40/40 [==============================] - 6s 162ms/step - loss: 3.9572e-04\n",
            "Epoch 76/100\n",
            "40/40 [==============================] - 6s 160ms/step - loss: 3.9648e-04\n",
            "Epoch 77/100\n",
            "40/40 [==============================] - 6s 161ms/step - loss: 4.3177e-04\n",
            "Epoch 78/100\n",
            "40/40 [==============================] - 6s 160ms/step - loss: 4.1453e-04\n",
            "Epoch 79/100\n",
            "40/40 [==============================] - 6s 161ms/step - loss: 4.5521e-04\n",
            "Epoch 80/100\n",
            "40/40 [==============================] - 6s 160ms/step - loss: 4.6639e-04\n",
            "Epoch 81/100\n",
            "40/40 [==============================] - 7s 163ms/step - loss: 4.5525e-04\n",
            "Epoch 82/100\n",
            "40/40 [==============================] - 6s 162ms/step - loss: 4.1027e-04\n",
            "Epoch 83/100\n",
            "40/40 [==============================] - 7s 163ms/step - loss: 4.4686e-04\n",
            "Epoch 84/100\n",
            "40/40 [==============================] - 6s 162ms/step - loss: 4.7903e-04\n",
            "Epoch 85/100\n",
            "40/40 [==============================] - 6s 161ms/step - loss: 3.7419e-04\n",
            "Epoch 86/100\n",
            "40/40 [==============================] - 6s 162ms/step - loss: 4.0357e-04\n",
            "Epoch 87/100\n",
            "40/40 [==============================] - 6s 161ms/step - loss: 4.7030e-04\n",
            "Epoch 88/100\n",
            "40/40 [==============================] - 6s 162ms/step - loss: 4.6243e-04\n",
            "Epoch 89/100\n",
            "40/40 [==============================] - 8s 202ms/step - loss: 4.1223e-04\n",
            "Epoch 90/100\n",
            "40/40 [==============================] - 7s 163ms/step - loss: 4.1859e-04\n",
            "Epoch 91/100\n",
            "40/40 [==============================] - 6s 162ms/step - loss: 4.1322e-04\n",
            "Epoch 92/100\n",
            "40/40 [==============================] - 6s 162ms/step - loss: 3.9052e-04\n",
            "Epoch 93/100\n",
            "40/40 [==============================] - 7s 166ms/step - loss: 3.7946e-04\n",
            "Epoch 94/100\n",
            "40/40 [==============================] - 7s 163ms/step - loss: 3.9098e-04\n",
            "Epoch 95/100\n",
            "40/40 [==============================] - 7s 163ms/step - loss: 4.0627e-04\n",
            "Epoch 96/100\n",
            "40/40 [==============================] - 6s 162ms/step - loss: 4.2928e-04\n",
            "Epoch 97/100\n",
            "40/40 [==============================] - 6s 162ms/step - loss: 4.2452e-04\n",
            "Epoch 98/100\n",
            "40/40 [==============================] - 7s 164ms/step - loss: 4.3252e-04\n",
            "Epoch 99/100\n",
            "40/40 [==============================] - 7s 164ms/step - loss: 3.9270e-04\n",
            "Epoch 100/100\n",
            "40/40 [==============================] - 7s 165ms/step - loss: 4.3037e-04\n"
          ]
        },
        {
          "output_type": "execute_result",
          "data": {
            "text/plain": [
              "<keras.callbacks.History at 0x7f1f63d23790>"
            ]
          },
          "metadata": {},
          "execution_count": 117
        }
      ]
    },
    {
      "cell_type": "markdown",
      "source": [
        "Predicting for test data"
      ],
      "metadata": {
        "id": "DVVc_FPmis2I"
      }
    },
    {
      "cell_type": "code",
      "source": [
        "test_input_ST, test_open_ST = concate(trainST,testST,ss)"
      ],
      "metadata": {
        "id": "-DSzH7RAhMZC"
      },
      "execution_count": null,
      "outputs": []
    },
    {
      "cell_type": "code",
      "execution_count": null,
      "metadata": {
        "id": "QfnC9ahNhMZC"
      },
      "outputs": [],
      "source": [
        "xtest= []\n",
        "for i in range(70,100):\n",
        "    xtest.append(test_input_ST[i-70:i,0]) #creating input for lstm prediction"
      ]
    },
    {
      "cell_type": "code",
      "execution_count": null,
      "metadata": {
        "id": "rSdcGRMMhMZC"
      },
      "outputs": [],
      "source": [
        "xtest= np.array(xtest)"
      ]
    },
    {
      "cell_type": "code",
      "execution_count": null,
      "metadata": {
        "id": "11x4p9PahMZC"
      },
      "outputs": [],
      "source": [
        "xtest= np.reshape(xtest,(xtest.shape[0],xtest.shape[1],1))\n",
        "predicted_value= regression.predict(xtest)\n"
      ]
    },
    {
      "cell_type": "code",
      "execution_count": null,
      "metadata": {
        "id": "M8aBXOb5hMZC"
      },
      "outputs": [],
      "source": [
        "predicted_value= ss.inverse_transform(predicted_value)"
      ]
    },
    {
      "cell_type": "code",
      "source": [
        "plt.figure(figsize=(30,15))\n",
        "plt.plot(test_open_ST,'red',label='Real Prices')\n",
        "plt.plot(predicted_value,'blue',label='Predicted Prices')\n",
        "plt.xlabel('Time')\n",
        "plt.ylabel('Prices')\n",
        "plt.title('Real vs Predicted Prices')\n",
        "plt.legend(loc='best', fontsize=20)"
      ],
      "metadata": {
        "colab": {
          "base_uri": "https://localhost:8080/",
          "height": 625
        },
        "outputId": "77406169-d4ff-4cf5-b105-a941f3d7fd10",
        "id": "_u_Nejy-hMZC"
      },
      "execution_count": null,
      "outputs": [
        {
          "output_type": "execute_result",
          "data": {
            "text/plain": [
              "<matplotlib.legend.Legend at 0x7f1f68352cd0>"
            ]
          },
          "metadata": {},
          "execution_count": 123
        },
        {
          "output_type": "display_data",
          "data": {
            "text/plain": [
              "<Figure size 2160x1080 with 1 Axes>"
            ],
            "image/png": "[encoded data removed]"
          },
          "metadata": {
            "needs_background": "light"
          }
        }
      ]
    }
  ],
  "metadata": {
    "kernelspec": {
      "display_name": "Python 3",
      "language": "python",
      "name": "python3"
    },
    "language_info": {
      "codemirror_mode": {
        "name": "ipython",
        "version": 3
      },
      "file_extension": ".py",
      "mimetype": "text/x-python",
      "name": "python",
      "nbconvert_exporter": "python",
      "pygments_lexer": "ipython3",
      "version": "3.7.3"
    },
    "colab": {
      "name": "Stock_prediction_.ipynb",
      "provenance": []
    }
  },
  "nbformat": 4,
  "nbformat_minor": 0
}