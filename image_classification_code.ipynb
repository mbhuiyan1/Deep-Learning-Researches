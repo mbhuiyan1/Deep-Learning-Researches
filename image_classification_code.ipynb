{
  "nbformat": 4,
  "nbformat_minor": 0,
  "metadata": {
    "colab": {
      "name": "image-classification-code.ipynb",
      "provenance": [],
      "collapsed_sections": [],
      "mount_file_id": "1FcCfqSi4wexPL2vBaIrrR-fcpPA57NEY",
      "authorship_tag": "ABX9TyMwVNMpuDv1clE/Ptf6yMb7",
      "include_colab_link": true
    },
    "kernelspec": {
      "name": "python3",
      "display_name": "Python 3"
    },
    "language_info": {
      "name": "python"
    }
  },
  "cells": [
    {
      "cell_type": "markdown",
      "metadata": {
        "id": "view-in-github",
        "colab_type": "text"
      },
      "source": [
        "<a href=\"https://colab.research.google.com/github/mbhuiyan1/Deep-Learning-Researches/blob/main/image_classification_code.ipynb\" target=\"_parent\"><img src=\"https://colab.research.google.com/assets/colab-badge.svg\" alt=\"Open In Colab\"/></a>"
      ]
    },
    {
      "cell_type": "code",
      "execution_count": null,
      "metadata": {
        "id": "8Qnvizit_9R4"
      },
      "outputs": [],
      "source": [
        "from keras.preprocessing.image import ImageDataGenerator\n",
        "from keras.models import Sequential # Sequential API let's you create a model layer by layer. \n",
        "\n",
        "from keras.layers import Conv2D, MaxPooling2D\n",
        "from keras.layers import Activation, Dropout, Flatten, Dense\n",
        "\n",
        "import numpy as np \n"
      ]
    },
    {
      "cell_type": "code",
      "source": [
        ""
      ],
      "metadata": {
        "id": "RmlYlvHWmbJm"
      },
      "execution_count": null,
      "outputs": []
    },
    {
      "cell_type": "markdown",
      "source": [
        ""
      ],
      "metadata": {
        "id": "-cmPXme7MwSB"
      }
    },
    {
      "cell_type": "markdown",
      "source": [
        "**Conecting this notebook with google-drive**\n"
      ],
      "metadata": {
        "id": "6hh4GF-o_-EY"
      }
    },
    {
      "cell_type": "code",
      "source": [
        "from google.colab import drive\n",
        "drive.mount('/content/drive')\n",
        "# For accessing files in google drive.\n"
      ],
      "metadata": {
        "id": "D3fZQTLVAhzI",
        "colab": {
          "base_uri": "https://localhost:8080/"
        },
        "outputId": "236fa6cb-4e7b-475a-a56f-92735a50b8f6"
      },
      "execution_count": null,
      "outputs": [
        {
          "output_type": "stream",
          "name": "stdout",
          "text": [
            "Drive already mounted at /content/drive; to attempt to forcibly remount, call drive.mount(\"/content/drive\", force_remount=True).\n"
          ]
        }
      ]
    },
    {
      "cell_type": "markdown",
      "source": [
        ""
      ],
      "metadata": {
        "id": "3--wEX_PrFVV"
      }
    },
    {
      "cell_type": "markdown",
      "source": [
        "**Bring in the data into this notebook**"
      ],
      "metadata": {
        "id": "I_UwP4ptBB4v"
      }
    },
    {
      "cell_type": "code",
      "source": [
        "# Our image datastes have different dimensions, so we define our preferred dimension\n",
        "img_width = 150\n",
        "img_height = 150\n",
        "\n",
        "train_data_dir = '/content/drive/MyDrive/ML-image-classification/image_data/training'\n",
        "validation_data_dir = '/content/drive/MyDrive/ML-image-classification/image_data/validation'\n",
        "train_samples = 20 \n",
        "validation_samples = 10\n",
        "epochs = 10\n",
        "batch_size = 10   "
      ],
      "metadata": {
        "id": "rwPNH00kAx8-"
      },
      "execution_count": null,
      "outputs": []
    },
    {
      "cell_type": "markdown",
      "source": [
        "**Define a simple CNN model**"
      ],
      "metadata": {
        "id": "Z9XKZNjPBuIV"
      }
    },
    {
      "cell_type": "code",
      "source": [
        "model = Sequential() \n",
        "\n",
        "model.add(Conv2D(32, (3, 3), input_shape=(img_width, img_height, 3))) \n",
        "model.add(Activation('relu'))  \n",
        "model.add(MaxPooling2D(pool_size=(2, 2))) \n",
        "\n",
        "model.add(Conv2D(32, (3, 3)))\n",
        "model.add(Activation('relu'))\n",
        "model.add(MaxPooling2D(pool_size=(2, 2)))\n",
        "\n",
        "model.add(Conv2D(64, (3, 3)))\n",
        "model.add(Activation('relu'))\n",
        "model.add(MaxPooling2D(pool_size=(2, 2)))\n",
        "\n",
        "model.add(Flatten()) \n",
        "model.add(Dense(64))  \n",
        "model.add(Activation('relu')) \n",
        "model.add(Dropout(0.5)) \n",
        "model.add(Dense(1)) \n",
        "model.add(Activation('sigmoid')) "
      ],
      "metadata": {
        "id": "CVn6zq7pBnaX"
      },
      "execution_count": null,
      "outputs": []
    },
    {
      "cell_type": "code",
      "source": [
        "model.summary()"
      ],
      "metadata": {
        "id": "gyqbYQvm-UvA",
        "colab": {
          "base_uri": "https://localhost:8080/"
        },
        "outputId": "f62f5a44-5d92-4d8b-d24c-93ad8b34d473"
      },
      "execution_count": null,
      "outputs": [
        {
          "output_type": "stream",
          "name": "stdout",
          "text": [
            "Model: \"sequential_11\"\n",
            "_________________________________________________________________\n",
            " Layer (type)                Output Shape              Param #   \n",
            "=================================================================\n",
            " conv2d_33 (Conv2D)          (None, 148, 148, 32)      896       \n",
            "                                                                 \n",
            " activation_55 (Activation)  (None, 148, 148, 32)      0         \n",
            "                                                                 \n",
            " max_pooling2d_33 (MaxPoolin  (None, 74, 74, 32)       0         \n",
            " g2D)                                                            \n",
            "                                                                 \n",
            " conv2d_34 (Conv2D)          (None, 72, 72, 32)        9248      \n",
            "                                                                 \n",
            " activation_56 (Activation)  (None, 72, 72, 32)        0         \n",
            "                                                                 \n",
            " max_pooling2d_34 (MaxPoolin  (None, 36, 36, 32)       0         \n",
            " g2D)                                                            \n",
            "                                                                 \n",
            " conv2d_35 (Conv2D)          (None, 34, 34, 64)        18496     \n",
            "                                                                 \n",
            " activation_57 (Activation)  (None, 34, 34, 64)        0         \n",
            "                                                                 \n",
            " max_pooling2d_35 (MaxPoolin  (None, 17, 17, 64)       0         \n",
            " g2D)                                                            \n",
            "                                                                 \n",
            " flatten_11 (Flatten)        (None, 18496)             0         \n",
            "                                                                 \n",
            " dense_22 (Dense)            (None, 64)                1183808   \n",
            "                                                                 \n",
            " activation_58 (Activation)  (None, 64)                0         \n",
            "                                                                 \n",
            " dropout_11 (Dropout)        (None, 64)                0         \n",
            "                                                                 \n",
            " dense_23 (Dense)            (None, 1)                 65        \n",
            "                                                                 \n",
            " activation_59 (Activation)  (None, 1)                 0         \n",
            "                                                                 \n",
            "=================================================================\n",
            "Total params: 1,212,513\n",
            "Trainable params: 1,212,513\n",
            "Non-trainable params: 0\n",
            "_________________________________________________________________\n"
          ]
        }
      ]
    },
    {
      "cell_type": "code",
      "source": [
        "model.compile(loss='binary_crossentropy',\n",
        "              optimizer='adam',\n",
        "              metrics=['accuracy'])\n"
      ],
      "metadata": {
        "id": "s5DHr_6qCDTc"
      },
      "execution_count": null,
      "outputs": []
    },
    {
      "cell_type": "markdown",
      "source": [
        "**Data Augmentation**"
      ],
      "metadata": {
        "id": "X70IhTXKCPED"
      }
    },
    {
      "cell_type": "code",
      "source": [
        "\n",
        "train_datagen = ImageDataGenerator(\n",
        "    rescale=1. / 255,\n",
        "    shear_range=0.2, # counterclokwise direction\n",
        "    zoom_range=0.2, # randomly zooming inside the images\n",
        "    horizontal_flip=True) # Randomly flips horizontally\n"
      ],
      "metadata": {
        "id": "P_wyk_rVCGI-"
      },
      "execution_count": null,
      "outputs": []
    },
    {
      "cell_type": "code",
      "source": [
        "train_generator = train_datagen.flow_from_directory(\n",
        "    train_data_dir,\n",
        "    target_size=(img_width, img_height),\n",
        "    batch_size=batch_size,\n",
        "    class_mode='binary')\n",
        "\n"
      ],
      "metadata": {
        "colab": {
          "base_uri": "https://localhost:8080/"
        },
        "id": "vurKRntUC1Po",
        "outputId": "6a8c98fa-7d2e-483f-de6e-18debd0c763c"
      },
      "execution_count": null,
      "outputs": [
        {
          "output_type": "stream",
          "name": "stdout",
          "text": [
            "Found 198 images belonging to 2 classes.\n"
          ]
        }
      ]
    },
    {
      "cell_type": "code",
      "source": [
        "\n",
        "test_datagen = ImageDataGenerator(rescale=1. / 255)"
      ],
      "metadata": {
        "id": "7bD2UbdUEdrg"
      },
      "execution_count": null,
      "outputs": []
    },
    {
      "cell_type": "code",
      "source": [
        "print(train_generator.class_indices)"
      ],
      "metadata": {
        "colab": {
          "base_uri": "https://localhost:8080/"
        },
        "id": "NNx-KhQmE2Nh",
        "outputId": "3ba81abd-5ea7-40bd-88e4-c81fc8c74569"
      },
      "execution_count": null,
      "outputs": [
        {
          "output_type": "stream",
          "name": "stdout",
          "text": [
            "{'Cat': 0, 'Dog': 1}\n"
          ]
        }
      ]
    },
    {
      "cell_type": "code",
      "source": [
        "imgs, labels = next(train_generator)"
      ],
      "metadata": {
        "id": "GICtYMuyF-_9"
      },
      "execution_count": null,
      "outputs": []
    },
    {
      "cell_type": "code",
      "source": [
        "from skimage import io\n",
        "\n",
        "def imshow(image_RGB):\n",
        "  io.imshow(image_RGB)\n",
        "  io.show()"
      ],
      "metadata": {
        "id": "8dDAHEThGHUy"
      },
      "execution_count": null,
      "outputs": []
    },
    {
      "cell_type": "code",
      "source": [
        "import matplotlib.pyplot as plt\n",
        "%matplotlib inline\n",
        "image_batch,label_batch = train_generator.next() # The next() function returns the next item in an iterator.\n",
        "# Now if I run this code it will give me 10 images of dog and cat since batch size =10. If I run the code again it will give me 10 different images from next batch.\n",
        "\n",
        "print(len(image_batch))\n",
        "for i in range(0,len(image_batch)):\n",
        "    image = image_batch[i]\n",
        "    print(label_batch[i])\n",
        "    imshow(image)"
      ],
      "metadata": {
        "id": "AYbboO31GPfM"
      },
      "execution_count": null,
      "outputs": []
    },
    {
      "cell_type": "code",
      "source": [
        "validation_generator = test_datagen.flow_from_directory(\n",
        "    validation_data_dir,\n",
        "    target_size=(img_width, img_height),\n",
        "    batch_size=batch_size,\n",
        "    class_mode='binary')"
      ],
      "metadata": {
        "colab": {
          "base_uri": "https://localhost:8080/"
        },
        "id": "CTcOQnxTGTP0",
        "outputId": "614d1848-3f69-4cd1-bf58-ce7bff305164"
      },
      "execution_count": null,
      "outputs": [
        {
          "output_type": "stream",
          "name": "stdout",
          "text": [
            "Found 100 images belonging to 2 classes.\n"
          ]
        }
      ]
    },
    {
      "cell_type": "code",
      "source": [
        "history = model.fit_generator(\n",
        "    train_generator,\n",
        "    steps_per_epoch=train_samples,\n",
        "    epochs=epochs,\n",
        "    validation_data=validation_generator,\n",
        "    validation_steps=validation_samples)\n"
      ],
      "metadata": {
        "id": "CM29wp2SGaS3"
      },
      "execution_count": null,
      "outputs": []
    },
    {
      "cell_type": "code",
      "source": [
        "import matplotlib.pyplot as plt\n",
        "%matplotlib inline\n",
        "\n",
        "# list all data in history\n",
        "print(history.history.keys())\n",
        "# summarize history for accuracy\n",
        "plt.plot(history.history['accuracy'])\n",
        "plt.plot(history.history['val_accuracy'])\n",
        "plt.title('model accuracy')\n",
        "plt.ylabel('accuracy')\n",
        "plt.xlabel('epoch')\n",
        "plt.legend(['train', 'test'], loc='upper left')\n",
        "plt.show()\n",
        "\n",
        "# summarize history for loss\n",
        "plt.plot(history.history['loss'])\n",
        "plt.plot(history.history['val_loss'])\n",
        "plt.title('model loss')\n",
        "plt.ylabel('loss')\n",
        "plt.xlabel('epoch')\n",
        "plt.legend(['train', 'test'], loc='upper left')\n",
        "plt.show()"
      ],
      "metadata": {
        "id": "1rzT3FXjGugS"
      },
      "execution_count": null,
      "outputs": []
    },
    {
      "cell_type": "code",
      "source": [
        ""
      ],
      "metadata": {
        "id": "lMe6-XGUhLWh"
      },
      "execution_count": null,
      "outputs": []
    },
    {
      "cell_type": "code",
      "source": [
        "import operator\n",
        "from pathlib import Path\n",
        "import logging, os\n",
        "from google.colab import files\n",
        "from keras.preprocessing import image\n"
      ],
      "metadata": {
        "id": "exKHJIZW2y10"
      },
      "execution_count": null,
      "outputs": []
    },
    {
      "cell_type": "code",
      "source": [
        "#predict from test repository\n",
        "dog_counter = 0 \n",
        "cat_counter  = 0\n",
        "image_path = \"/content/drive/MyDrive/ML-image-classification/image_data/test/\"\n",
        "\n",
        "images = []\n",
        "    \n",
        "# load all images into a list\n",
        "for im in os.listdir(image_path):\n",
        "        img = os.path.join(image_path, im)\n",
        "        img = image.load_img(img, target_size=(img_width, img_height)) # this is a PIL image\n",
        "        x = image.img_to_array(img) # convert the PIl image to 3d tensor with shape (148, 148, 3)\n",
        "        x = np.expand_dims(x, axis=0) # # convert the  3d tensor tp 4D tesnor with shape (1, 148, 148, 3)\n",
        "\n",
        "        images = np.vstack([x]) #all the images in a stack\n",
        "        classes = model.predict(x)\n",
        "\n",
        "        print(classes[0])\n",
        "        plt.axis(\"off\")\n",
        "        plt.imshow(img)\n",
        "        plt.show()\n",
        "        \n",
        "        if classes[0] <= 0.5:\n",
        "          print(im + \": \" + 'cat\\n')\n",
        "          cat_counter += 1\n",
        "        else:\n",
        "          print(im + \": \" + 'dog\\n' )\n",
        "          dog_counter += 1\n",
        "print(\"Total Dogs :\",dog_counter)\n",
        "print(\"Total Cats :\",cat_counter)"
      ],
      "metadata": {
        "id": "IdFA_HpzKnqz"
      },
      "execution_count": null,
      "outputs": []
    },
    {
      "cell_type": "code",
      "source": [
        ""
      ],
      "metadata": {
        "id": "0FBk0UbSgx-o"
      },
      "execution_count": null,
      "outputs": []
    }
  ]
}